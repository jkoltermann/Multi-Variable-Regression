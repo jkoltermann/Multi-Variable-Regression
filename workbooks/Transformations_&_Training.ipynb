{
 "cells": [
  {
   "cell_type": "markdown",
   "id": "e366a599-9872-4543-9574-52bfa5c59507",
   "metadata": {},
   "source": [
    "# Data Transformations & Imputation"
   ]
  },
  {
   "cell_type": "markdown",
   "id": "f246ad64-eee9-428a-976d-c005f328e090",
   "metadata": {},
   "source": [
    "#### The Variables in this model will be Handled through analysis in the following manner:\n",
    "\n",
    "- Binary: No manipulation, only translation to true binary\n",
    "- Nominal: Will be transformed with one-hot encoding\n",
    "- Ordinal: Object ordinal columns will be transformed into a rating scaled from None -> 0 and Best -> N\n",
    "- Numerical: Will be transformed into z-scores following the distribution \\of the column itself "
   ]
  },
  {
   "cell_type": "code",
   "execution_count": 1,
   "id": "418777af-957e-44d0-9492-7d78147c308b",
   "metadata": {},
   "outputs": [],
   "source": [
    "import pandas as pd\n",
    "import numpy as np\n",
    "import os\n",
    "import matplotlib.pyplot as plt\n",
    "from sklearn import model_selection #import train_test_split\n",
    "from sklearn import linear_model #LinearRegression\n",
    "from sklearn import metrics\n",
    "from sklearn.compose import ColumnTransformer\n",
    "from sklearn.preprocessing import OneHotEncoder, StandardScaler\n",
    "pd.options.mode.chained_assignment = None\n",
    "from sklearn.model_selection import cross_val_score"
   ]
  },
  {
   "cell_type": "code",
   "execution_count": 2,
   "id": "c7883eb1-324c-42d4-a132-05ff155e9865",
   "metadata": {},
   "outputs": [],
   "source": [
    "data = pd.read_csv('../datasets/train-cleaned.csv', index_col=0)"
   ]
  },
  {
   "cell_type": "code",
   "execution_count": 3,
   "id": "223f10bb-bec9-4c9c-9c13-be1b8275b664",
   "metadata": {},
   "outputs": [],
   "source": [
    "data = data[data.columns[2:]]"
   ]
  },
  {
   "cell_type": "markdown",
   "id": "dc54a1ce-250a-49e0-b038-60d4f02b4caa",
   "metadata": {},
   "source": [
    "#### Loading Metadata to organize transformations:"
   ]
  },
  {
   "cell_type": "code",
   "execution_count": 4,
   "id": "e87f98ca-d122-46f9-8b07-6d872a453dbc",
   "metadata": {},
   "outputs": [],
   "source": [
    "metadata = pd.read_csv('../datasets/metadata-cleaned.csv', index_col=0)"
   ]
  },
  {
   "cell_type": "code",
   "execution_count": 5,
   "id": "eaabfa89-f767-4178-94fc-2adb468ea4a4",
   "metadata": {},
   "outputs": [],
   "source": [
    "metadata = metadata[(metadata.column_name != 'id')]"
   ]
  },
  {
   "cell_type": "code",
   "execution_count": 6,
   "id": "3a20f7e8-ab1f-4ce3-a915-9c1ef0b2a405",
   "metadata": {},
   "outputs": [],
   "source": [
    "metadata = metadata[(metadata.column_name != 'pid')]"
   ]
  },
  {
   "cell_type": "code",
   "execution_count": 7,
   "id": "72281dde-ed0d-46cc-b725-6e6516388a49",
   "metadata": {},
   "outputs": [],
   "source": [
    "metadata = metadata.reset_index(drop=True)"
   ]
  },
  {
   "cell_type": "code",
   "execution_count": 8,
   "id": "5fc19b08-6ae5-43bc-8e71-c406bee428f9",
   "metadata": {},
   "outputs": [],
   "source": [
    "all_nominals_names = metadata[metadata.variable_type == 'Nominal']"
   ]
  },
  {
   "cell_type": "code",
   "execution_count": 9,
   "id": "d29b5d2e-fa6f-43bb-b60f-055f3e00e9e5",
   "metadata": {},
   "outputs": [],
   "source": [
    "nominals = data[all_nominals_names.column_name]"
   ]
  },
  {
   "cell_type": "code",
   "execution_count": 10,
   "id": "0635a2c1-f80a-4e20-9de8-9f60b4c4770d",
   "metadata": {},
   "outputs": [],
   "source": [
    "numeric_names = metadata[metadata.variable_type == 'Numerical']"
   ]
  },
  {
   "cell_type": "code",
   "execution_count": 11,
   "id": "f76f3c21-5351-47b1-8e22-9ef2f7375b6d",
   "metadata": {},
   "outputs": [],
   "source": [
    "numerics = data[numeric_names.column_name]"
   ]
  },
  {
   "cell_type": "markdown",
   "id": "b93a065c-aacd-41b2-8e71-88bd1750bb3d",
   "metadata": {},
   "source": [
    "### Transform Method from Ordinal Null Handling"
   ]
  },
  {
   "cell_type": "markdown",
   "id": "1ca99fa6-4994-45bf-b7d4-1c57effdf049",
   "metadata": {},
   "source": [
    "- Because I began 'Null Handling' on the data cleaning Jupyter Lab document, \\\n",
    "I will first finish the process of Transforming the remainder of the ordinal values to remain organized"
   ]
  },
  {
   "cell_type": "code",
   "execution_count": 12,
   "id": "514e4c57-ca58-4a4e-89ce-da09fd07d30e",
   "metadata": {},
   "outputs": [],
   "source": [
    "def ord_transform(df, col, transform):\n",
    "    '''ord method'''\n",
    "    assert transform\n",
    "    #df[col] = [transform[x] for x in df[col]]\n",
    "    df[col] = df[col].map(transform)\n",
    "\n",
    "    metadata.loc[metadata['column_name'] == col, 'ord_transform_map'] = str(transform)\n",
    "    return df"
   ]
  },
  {
   "cell_type": "markdown",
   "id": "0f772224-1886-4844-9cce-5ac5822e93af",
   "metadata": {},
   "source": [
    "- As what can be noticed from the above, there are duplicate functions across the notebook. \n",
    "- One way that I can definitely improve going forward is to build with classes to more easily re-use code"
   ]
  },
  {
   "cell_type": "code",
   "execution_count": 13,
   "id": "f9a87c8e-46e1-49c2-97a5-f7f7ec3f4d5a",
   "metadata": {},
   "outputs": [],
   "source": [
    "def check_if_transformed(variable):\n",
    "    '''ord method'''\n",
    "    if metadata.loc[metadata['column_name'] == variable, 'ord_transform_map'].isnull().all():\n",
    "        return False\n",
    "    else:\n",
    "        return True"
   ]
  },
  {
   "cell_type": "code",
   "execution_count": 14,
   "id": "c8de8170-1cbc-4cf6-a04f-1907b3bc35e8",
   "metadata": {},
   "outputs": [],
   "source": [
    "def mark_dont_transform(variable):\n",
    "    '''ord method'''\n",
    "    metadata.loc[metadata['column_name'] == variable, 'ord_transform_map'] = 'No Transform'"
   ]
  },
  {
   "cell_type": "code",
   "execution_count": 15,
   "id": "bee39ea7-8d0f-4eb6-a670-3e09ceb7f8a6",
   "metadata": {},
   "outputs": [],
   "source": [
    "popular_ord_transform = {'Ex' : 5, 'Gd' : 4, 'TA' : 3, 'Fa': 2, 'Po' : 1, np.nan: 0} \n",
    "garage_finish_dict = {'Fin':3,'RFn': 2, 'Unf':1, np.nan: 0}\n",
    "basement_finish_dict = {'GLQ':6,'ALQ':5,'BLQ':4,'Rec':3,'LwQ':2,'Unf':1, np.nan:0}\n",
    "basement_exp_dict = {'Gd':3,'Av':2,'Mn':1, 'No':0, np.nan:0}\n",
    "slope_dict = {'Gtl':3, 'Mod':2, 'Sev':1}\n",
    "countour_dict = {'Lvl':4, 'Low':3, 'Bnk':2,'HLS':1}\n",
    "lot_shape_dict = {'Reg':4,'IR1':3,'IR2':2,'IR3':1}\n",
    "functional_dict = {\n",
    "    \"Typ\": 1,\n",
    "    \"Min1\": 2,\n",
    "    \"Min2\": 3,\n",
    "    \"Mod\": 4,\n",
    "    \"Maj1\": 5,\n",
    "    \"Maj2\": 6,\n",
    "    \"Sev\": 7,\n",
    "    \"Sal\": 8}\n",
    "binary_dict = {'Y':1,'N':0}"
   ]
  },
  {
   "cell_type": "markdown",
   "id": "f0d335db-a653-4708-93b5-6531a1b94cbc",
   "metadata": {},
   "source": [
    "- One aspect of this project that made my approach more challenging was the handling of ordinal variables\n",
    "- Though sklearn provides a few methods to automatically handle ordinal data to make transformations\\\n",
    "some of these orderings required a judgement call that I didn't want to leave to a library\n",
    "- In the future, one way to improve this method would be to store this dictionary in a text file perhaps. Though there could be some value in being able to read the dictionaries here"
   ]
  },
  {
   "cell_type": "code",
   "execution_count": 16,
   "id": "3e5d8e23-8bbc-4b2d-a880-3b101ea7c070",
   "metadata": {},
   "outputs": [],
   "source": [
    "ordinal_names = metadata[metadata.variable_type == 'Ordinal']"
   ]
  },
  {
   "cell_type": "code",
   "execution_count": 17,
   "id": "f8c2948b-194a-45a1-8fbf-f184013974ae",
   "metadata": {},
   "outputs": [],
   "source": [
    "ordinals = data[ordinal_names.column_name]"
   ]
  },
  {
   "cell_type": "code",
   "execution_count": 18,
   "id": "3e6d0db7-bdc0-4e22-96d1-cf73241502b1",
   "metadata": {},
   "outputs": [],
   "source": [
    "for var in ordinals.columns:\n",
    "    if data[var].dtype == 'int64':\n",
    "        mark_dont_transform(var)"
   ]
  },
  {
   "cell_type": "code",
   "execution_count": 19,
   "id": "661e6865-133a-4a39-87d4-8e7ad7709374",
   "metadata": {},
   "outputs": [],
   "source": [
    "def get_ordinals_untransformed():\n",
    "    output = []\n",
    "    for col in ordinals.columns:\n",
    "        if not check_if_transformed(col):\n",
    "            output.append((col,data[col].unique()))\n",
    "    return output"
   ]
  },
  {
   "cell_type": "markdown",
   "id": "6276fd89-663f-40ae-8167-dd81209e531a",
   "metadata": {},
   "source": [
    "### Applying all Translations Transformations to ordinal data"
   ]
  },
  {
   "cell_type": "markdown",
   "id": "61efb331-f5c4-4c3d-9ac7-781f4e255108",
   "metadata": {},
   "source": [
    "- The transformations below required a large amount of manual work, looking forward, I believe it will be most useful to find an automated way of sorting and ordering ordinal data"
   ]
  },
  {
   "cell_type": "code",
   "execution_count": 20,
   "id": "a8034e6a-59e6-4785-9369-0709b7d6cbeb",
   "metadata": {},
   "outputs": [],
   "source": [
    "data = ord_transform(data,'exter_cond',popular_ord_transform)"
   ]
  },
  {
   "cell_type": "code",
   "execution_count": 21,
   "id": "6f10820d-0f0a-469a-a044-7ce28acd922a",
   "metadata": {},
   "outputs": [],
   "source": [
    "data = ord_transform(data,'heating_qc',popular_ord_transform)"
   ]
  },
  {
   "cell_type": "code",
   "execution_count": 22,
   "id": "1782b68b-74a4-478e-bcd6-14e7e361605b",
   "metadata": {},
   "outputs": [],
   "source": [
    "data = ord_transform(data,'exter_qual',popular_ord_transform)"
   ]
  },
  {
   "cell_type": "code",
   "execution_count": 23,
   "id": "3199aa2c-bb2e-494d-922a-31bb29f060e3",
   "metadata": {},
   "outputs": [],
   "source": [
    "data = ord_transform(data,'kitchen_qual',popular_ord_transform)"
   ]
  },
  {
   "cell_type": "code",
   "execution_count": 24,
   "id": "78e90209-a471-4833-a5a8-0d28d6ef6e62",
   "metadata": {},
   "outputs": [],
   "source": [
    "data = ord_transform(data,'land_slope',slope_dict)"
   ]
  },
  {
   "cell_type": "code",
   "execution_count": 25,
   "id": "dd334aef-a2dc-4033-8655-a98b11ff4c15",
   "metadata": {},
   "outputs": [],
   "source": [
    "data = ord_transform(data,'land_contour',countour_dict)"
   ]
  },
  {
   "cell_type": "code",
   "execution_count": 26,
   "id": "9ef30532-c49b-4b35-bc59-45ff09e1bf15",
   "metadata": {},
   "outputs": [],
   "source": [
    "data = ord_transform(data,'lot_shape',lot_shape_dict)"
   ]
  },
  {
   "cell_type": "code",
   "execution_count": 27,
   "id": "59f6153c-1db0-4e0c-89f8-26144777d7b8",
   "metadata": {},
   "outputs": [],
   "source": [
    "data = ord_transform(data,'paved_drive',{'Y':3,'P':2,'N':1})"
   ]
  },
  {
   "cell_type": "code",
   "execution_count": 28,
   "id": "e472c80e-9bbf-49fb-adcf-78233905bb62",
   "metadata": {},
   "outputs": [],
   "source": [
    "data = ord_transform(data,'functional',functional_dict)"
   ]
  },
  {
   "cell_type": "code",
   "execution_count": 29,
   "id": "2d1d24b5-2b7a-4c89-8689-1deee9d359b2",
   "metadata": {},
   "outputs": [],
   "source": [
    "data = ord_transform(data,'central_air',binary_dict)"
   ]
  },
  {
   "cell_type": "code",
   "execution_count": 30,
   "id": "e8cfc940-4d6d-4bea-9c50-90e4896d7ab4",
   "metadata": {},
   "outputs": [],
   "source": [
    "X = data[data.columns[:-1]]"
   ]
  },
  {
   "cell_type": "code",
   "execution_count": 31,
   "id": "3459cb43-39f6-4267-8fb9-7bd0e65065cb",
   "metadata": {},
   "outputs": [],
   "source": [
    "y = data[data.columns[-1]]"
   ]
  },
  {
   "cell_type": "markdown",
   "id": "dbd98908-02fa-4c3a-9cc9-d602c5e4a451",
   "metadata": {
    "tags": []
   },
   "source": [
    "#### Splitting Training and Testing"
   ]
  },
  {
   "cell_type": "code",
   "execution_count": 32,
   "id": "ec318bf2-63eb-4297-8728-f75db0acb7fb",
   "metadata": {},
   "outputs": [],
   "source": [
    "x_train, x_test, y_train, y_test = model_selection.train_test_split(X, y)"
   ]
  },
  {
   "cell_type": "markdown",
   "id": "724d09c7-28c2-40d1-9119-a3fe23e064db",
   "metadata": {},
   "source": [
    "### Data Imputing (following the explanations included at the top of this Page)"
   ]
  },
  {
   "cell_type": "code",
   "execution_count": 33,
   "id": "d69e46fb-230d-4266-8bc5-d5163598c658",
   "metadata": {},
   "outputs": [],
   "source": [
    "def impute(column_names, task, xtrain, xtest):\n",
    "    for col in column_names:\n",
    "        if task == 'impute_mean':\n",
    "            impute_item = xtrain[col].mean()\n",
    "        elif task == 'impute_median':\n",
    "            impute_item = xtrain[col].median()\n",
    "        elif task == 'impute_mode':\n",
    "            impute_item = xtrain[col].mode().iloc[0]\n",
    "        else:\n",
    "            raise Exception('insert verified task')\n",
    "        xtrain[col] = xtrain[col].fillna(impute_item)\n",
    "        if xtest is not None:\n",
    "            xtest[col] = xtest[col].fillna(impute_item) \n",
    "    return(xtrain,xtest)"
   ]
  },
  {
   "cell_type": "markdown",
   "id": "25f14b31-b936-4ac3-acae-069413171e3d",
   "metadata": {},
   "source": [
    "#### Applying all transformations to both the testing and training sets"
   ]
  },
  {
   "cell_type": "code",
   "execution_count": 34,
   "id": "7777f765-d012-47dd-86c1-e1f372ebb0de",
   "metadata": {},
   "outputs": [],
   "source": [
    "mean_cols = metadata[metadata['impute_mean'] == 1].column_name.values"
   ]
  },
  {
   "cell_type": "code",
   "execution_count": 35,
   "id": "7c52329d-c347-46d2-a227-959785068b62",
   "metadata": {},
   "outputs": [],
   "source": [
    "x_train, x_test = impute(mean_cols,'impute_mean',x_train,x_test)"
   ]
  },
  {
   "cell_type": "code",
   "execution_count": 36,
   "id": "fdc8ee5b-d763-428a-a328-909f4039438a",
   "metadata": {},
   "outputs": [],
   "source": [
    "mode_cols = metadata[metadata['impute_mode'] == 1].column_name.values"
   ]
  },
  {
   "cell_type": "code",
   "execution_count": 37,
   "id": "279f1933-eea2-438d-a4af-0413218966ef",
   "metadata": {},
   "outputs": [],
   "source": [
    "x_train,x_test = impute(mode_cols,'impute_mode',x_train,x_test)"
   ]
  },
  {
   "cell_type": "code",
   "execution_count": 38,
   "id": "d7c9b0e9-8593-4897-af6a-7f7925e0d33b",
   "metadata": {},
   "outputs": [],
   "source": [
    "median_cols = metadata[metadata['impute_median'] == 1].column_name.values"
   ]
  },
  {
   "cell_type": "code",
   "execution_count": 39,
   "id": "5a8125f0-d178-4401-9dff-100449c1c969",
   "metadata": {},
   "outputs": [],
   "source": [
    "x_train,x_test = impute(median_cols,'impute_mode',x_train,x_test)"
   ]
  },
  {
   "cell_type": "markdown",
   "id": "ba0b2108-6322-4eb2-a1bd-627c3bacdb5a",
   "metadata": {
    "tags": []
   },
   "source": [
    "#### One-Hot Encoding Nominal Data"
   ]
  },
  {
   "cell_type": "code",
   "execution_count": 40,
   "id": "3c116aaf-2f59-46cd-953a-a983674657d3",
   "metadata": {},
   "outputs": [],
   "source": [
    "nominal_columns = metadata[metadata.variable_type == 'Nominal'].column_name.values\n",
    "#just the names of the columns that are nominal"
   ]
  },
  {
   "cell_type": "code",
   "execution_count": 41,
   "id": "0118d46c-653d-44c2-925b-5006b7f17639",
   "metadata": {},
   "outputs": [],
   "source": [
    "x_combined = pd.concat([x_train, x_test])\n",
    "x_combined_encoded = pd.get_dummies(x_combined, columns = nominal_columns,drop_first=True)\n",
    "x_train_encoded = x_combined_encoded.iloc[:x_train.shape[0]]\n",
    "x_test_encoded = x_combined_encoded.iloc[x_train.shape[0]:]"
   ]
  },
  {
   "cell_type": "markdown",
   "id": "db48ad38-7b43-455f-84aa-814bc60e123b",
   "metadata": {},
   "source": [
    "- The above is a method to automatically collect all potential nominal outputs so that I can have dummies ready for all of them"
   ]
  },
  {
   "cell_type": "markdown",
   "id": "0d1c193c-f1c1-4ba7-a5f8-a4f37a1d1ec5",
   "metadata": {},
   "source": [
    "#### Normalizing Numeric Data into z-scores based off of test col distributions"
   ]
  },
  {
   "cell_type": "code",
   "execution_count": 42,
   "id": "7a8bfd1f-671b-4ee4-bb68-55559b27ed84",
   "metadata": {},
   "outputs": [],
   "source": [
    "numeric_columns = metadata[metadata.variable_type == 'Numerical'].column_name"
   ]
  },
  {
   "cell_type": "code",
   "execution_count": 43,
   "id": "d28f724d-b42d-42e1-aeb3-a9060fd1c96a",
   "metadata": {},
   "outputs": [],
   "source": [
    "x_train_numeric = x_train_encoded[numeric_columns]"
   ]
  },
  {
   "cell_type": "code",
   "execution_count": 44,
   "id": "849d4764-b273-4c44-8265-e8dc9be4d619",
   "metadata": {},
   "outputs": [],
   "source": [
    "x_test_numeric = x_test_encoded[numeric_columns]"
   ]
  },
  {
   "cell_type": "code",
   "execution_count": 45,
   "id": "e4929b30-3bad-4ec7-aee6-ed32d351a1d0",
   "metadata": {},
   "outputs": [],
   "source": [
    "scaler = StandardScaler()"
   ]
  },
  {
   "cell_type": "code",
   "execution_count": 46,
   "id": "f63a5623-040a-4fe4-95eb-3a2c1735da85",
   "metadata": {},
   "outputs": [
    {
     "data": {
      "text/plain": [
       "StandardScaler()"
      ]
     },
     "execution_count": 46,
     "metadata": {},
     "output_type": "execute_result"
    }
   ],
   "source": [
    "scaler.fit(x_train_numeric)"
   ]
  },
  {
   "cell_type": "code",
   "execution_count": 47,
   "id": "7af6eb96-417e-4050-b720-ded4e0de8428",
   "metadata": {},
   "outputs": [],
   "source": [
    "x_train_num_transformed = scaler.transform(x_train_numeric)\n",
    "x_train_num_trans_df = pd.DataFrame(x_train_num_transformed,columns=numeric_columns,index=None)"
   ]
  },
  {
   "cell_type": "code",
   "execution_count": 48,
   "id": "6505a78d-70bb-4515-ba87-d8dd273e4a3c",
   "metadata": {},
   "outputs": [],
   "source": [
    "x_test_num_transformed = scaler.transform(x_test_numeric)\n",
    "x_test_num_trans_df = pd.DataFrame(x_test_num_transformed,columns=numeric_columns,index=None)"
   ]
  },
  {
   "cell_type": "markdown",
   "id": "9711804b-0337-4e73-8234-64bb2da71718",
   "metadata": {},
   "source": [
    "- The above two cells normalize my numeric variables, and then put them into a dataframe, which will be merged with the rest of my data"
   ]
  },
  {
   "cell_type": "code",
   "execution_count": 49,
   "id": "fbbe842d-13d1-4022-b250-602bb83f8f5b",
   "metadata": {},
   "outputs": [],
   "source": [
    "x_test_not_numeric = x_test_encoded.drop(columns=numeric_columns,axis=1)"
   ]
  },
  {
   "cell_type": "code",
   "execution_count": 50,
   "id": "27ccb435-538b-4372-9abf-337a1dc21161",
   "metadata": {},
   "outputs": [],
   "source": [
    "x_train_not_numeric = x_train_encoded.drop(columns=numeric_columns,axis=1)"
   ]
  },
  {
   "cell_type": "markdown",
   "id": "f4835edf-aeaf-4129-a386-6a86b7c353bd",
   "metadata": {},
   "source": [
    "- The above two cells remove any duplicate columns, as the numeric columns are now coming from the normalized sources"
   ]
  },
  {
   "cell_type": "code",
   "execution_count": 51,
   "id": "ddce802b-c198-4d70-a3f2-ad1f188ab242",
   "metadata": {},
   "outputs": [],
   "source": [
    "x_train_not_numeric = x_train_not_numeric.reset_index(drop=True)"
   ]
  },
  {
   "cell_type": "code",
   "execution_count": 52,
   "id": "04d44f49-6873-426d-ac60-58ef7dfe6635",
   "metadata": {},
   "outputs": [],
   "source": [
    "x_test_not_numeric = x_test_not_numeric.reset_index(drop=True)"
   ]
  },
  {
   "cell_type": "markdown",
   "id": "64ff7bd9-1805-440d-bcbb-9acd5c9cdf0d",
   "metadata": {},
   "source": [
    "- Resetting indicies so that I will be able to merge correctly with the other data type dataframes"
   ]
  },
  {
   "cell_type": "code",
   "execution_count": 53,
   "id": "eba9c19f-319e-4355-a507-86b1cfb1c892",
   "metadata": {},
   "outputs": [],
   "source": [
    "x_final_train = x_train_not_numeric.merge(x_train_num_trans_df,left_index=True, right_index=True)"
   ]
  },
  {
   "cell_type": "code",
   "execution_count": 54,
   "id": "ddc81e28-11bf-4050-a13b-ccab962d3c08",
   "metadata": {},
   "outputs": [],
   "source": [
    "x_final_test = x_test_not_numeric.merge(x_test_num_trans_df,left_index=True, right_index=True)"
   ]
  },
  {
   "cell_type": "markdown",
   "id": "aee53b91-5950-4c72-bfa4-ee15191bf270",
   "metadata": {},
   "source": [
    "- Completing a clean merge of the numeric and non-numeric dataframes"
   ]
  },
  {
   "cell_type": "code",
   "execution_count": 55,
   "id": "42f15ada-6ab8-40c4-bec8-098c31b7db5f",
   "metadata": {},
   "outputs": [],
   "source": [
    "reg = linear_model.LinearRegression()"
   ]
  },
  {
   "cell_type": "code",
   "execution_count": 56,
   "id": "f24fc819-71d9-475b-8585-01a6e4b931f6",
   "metadata": {},
   "outputs": [
    {
     "data": {
      "text/plain": [
       "LinearRegression()"
      ]
     },
     "execution_count": 56,
     "metadata": {},
     "output_type": "execute_result"
    }
   ],
   "source": [
    "reg.fit(x_final_train, y_train)"
   ]
  },
  {
   "cell_type": "code",
   "execution_count": 57,
   "id": "09a976de-6611-47ab-b202-de2d27330ea0",
   "metadata": {},
   "outputs": [
    {
     "data": {
      "text/plain": [
       "0.9225918703842733"
      ]
     },
     "execution_count": 57,
     "metadata": {},
     "output_type": "execute_result"
    }
   ],
   "source": [
    "reg.score(x_final_train, y_train)"
   ]
  },
  {
   "cell_type": "code",
   "execution_count": 58,
   "id": "ab867ed4-91dd-4a6a-8a4a-29810e39946b",
   "metadata": {},
   "outputs": [
    {
     "data": {
      "text/plain": [
       "0.8471558442738691"
      ]
     },
     "execution_count": 58,
     "metadata": {},
     "output_type": "execute_result"
    }
   ],
   "source": [
    "reg.score(x_final_test, y_test)"
   ]
  },
  {
   "cell_type": "markdown",
   "id": "d5a54b4f-6050-44da-9391-3718f9144ec8",
   "metadata": {},
   "source": [
    "- Very important to mention the above, as a very strong representation of overfitting\n",
    "- I assume that there are many variables in my data that are going to have little to-no impact on the success of my model\\\n",
    "so first thought is to bring a lasso into the model"
   ]
  },
  {
   "cell_type": "code",
   "execution_count": 59,
   "id": "273f5ab7-4302-4f7f-bd4d-a49e2565bb84",
   "metadata": {},
   "outputs": [],
   "source": [
    "y_pred = reg.predict(x_final_test)"
   ]
  },
  {
   "cell_type": "code",
   "execution_count": 60,
   "id": "e10e3ba1-0a90-4407-834c-66ce6752da4b",
   "metadata": {},
   "outputs": [],
   "source": [
    "from sklearn.metrics import mean_squared_error"
   ]
  },
  {
   "cell_type": "code",
   "execution_count": 181,
   "id": "866be1b6-41e3-4be9-a739-ff1bbcb44b60",
   "metadata": {},
   "outputs": [],
   "source": [
    "linear_one_cross_val = cross_val_score(reg,x_final_test,y_test, cv=5).mean()"
   ]
  },
  {
   "cell_type": "code",
   "execution_count": 115,
   "id": "fc5825a1-536c-42c3-9932-c97c74565bd4",
   "metadata": {},
   "outputs": [
    {
     "data": {
      "text/plain": [
       "0.7795537876946613"
      ]
     },
     "execution_count": 115,
     "metadata": {},
     "output_type": "execute_result"
    }
   ],
   "source": [
    "linear_one_cross_val"
   ]
  },
  {
   "cell_type": "code",
   "execution_count": 118,
   "id": "87ccab20-4591-44e2-990e-c320178a0ed4",
   "metadata": {},
   "outputs": [],
   "source": [
    "Linear_one_rmse = np.sqrt(mean_squared_error(y_test, y_pred))"
   ]
  },
  {
   "cell_type": "code",
   "execution_count": 119,
   "id": "d29f7e6f-f249-430b-88b3-61058efde4ac",
   "metadata": {},
   "outputs": [
    {
     "data": {
      "text/plain": [
       "30927.724871339087"
      ]
     },
     "execution_count": 119,
     "metadata": {},
     "output_type": "execute_result"
    }
   ],
   "source": [
    "Linear_one_rmse"
   ]
  },
  {
   "cell_type": "markdown",
   "id": "39b55938-7c15-4511-be0c-98b47c22b50e",
   "metadata": {},
   "source": [
    "- Plenty of room for improvement\n",
    "- next step is to apply constraints to the variables to discover which values are really driving the (accuracy or inaccuracy of the) model "
   ]
  },
  {
   "cell_type": "markdown",
   "id": "3152ae35-cbe5-4024-a402-913c37419f7b",
   "metadata": {},
   "source": [
    "### Refining Model through Lasso"
   ]
  },
  {
   "cell_type": "code",
   "execution_count": 64,
   "id": "d57380a4-6e57-406b-91d4-2753e0c3fa3b",
   "metadata": {},
   "outputs": [],
   "source": [
    "from sklearn.linear_model import Lasso\n",
    "from sklearn.linear_model import Ridge"
   ]
  },
  {
   "cell_type": "code",
   "execution_count": 65,
   "id": "5452f2d5-1cfa-41d1-946f-3b80c5ed3e87",
   "metadata": {},
   "outputs": [],
   "source": [
    "performance_dict = {}"
   ]
  },
  {
   "cell_type": "code",
   "execution_count": 177,
   "id": "b9aa19e9-53b7-41b3-a678-52d23cbdc77c",
   "metadata": {},
   "outputs": [],
   "source": [
    "a_value = 150\n",
    "#increment = .125\n",
    "#while a_value <= 150:\n",
    "lasso = Lasso(alpha=a_value)#alpha=alpha\n",
    "lasso.fit(x_final_train, y_train)\n",
    "\n",
    "performance_dict[a_value] = {}\n",
    "performance_dict[a_value]['test_score'] = lasso.score(x_final_test,y_test)\n",
    "performance_dict[a_value]['coefficients_killed'] = [y for x,y in zip(lasso.coef_,x_final_train.columns) if x == 0.0]\n",
    "    \n",
    "#lasso.score(x_final_train,y_train)\n",
    "#lasso.score(x_final_test,y_test)\n",
    "#a_value += increment"
   ]
  },
  {
   "cell_type": "markdown",
   "id": "56e1bb21-bbd0-4130-a6ff-4e095e4d814b",
   "metadata": {},
   "source": [
    "- Though was generally discouraged to keep too many comments in my code, I believe it's important to show here\\\n",
    "as it shows how I came to the alpha value for my lasso model\n",
    "- Orginally, I had a method that would attempt to maximize the R2 of the model as you modulate the alpha value.\n",
    "- Further there seemed to be issues with how I would arrive at a local minima depending on how the test split was drawn, resulting in very \\\n",
    "different results for the optimization of alpha\n",
    "- This eventually removed too many variables. I was afraid to remove too many at first, as I was still in my discovery\\\n",
    "phase of this project\n",
    "- My solution was to gradually increase the alpha value, until a reached a local minima of optimized r2, and observe what columns were dropped"
   ]
  },
  {
   "cell_type": "code",
   "execution_count": 111,
   "id": "e9bfc1f7-2cd7-49a1-9bbf-a365fa4bc577",
   "metadata": {},
   "outputs": [],
   "source": [
    "lasso_cross_val = cross_val_score(lasso,x_final_test,y_test, cv=5).mean()"
   ]
  },
  {
   "cell_type": "code",
   "execution_count": 121,
   "id": "da44878c-fade-44f3-96b1-93b88b63a7b4",
   "metadata": {},
   "outputs": [
    {
     "data": {
      "text/plain": [
       "0.8727749829879862"
      ]
     },
     "execution_count": 121,
     "metadata": {},
     "output_type": "execute_result"
    }
   ],
   "source": [
    "lasso_cross_val"
   ]
  },
  {
   "cell_type": "code",
   "execution_count": 125,
   "id": "ddf56173-1ba2-481c-b967-4534c106727d",
   "metadata": {},
   "outputs": [],
   "source": [
    "lasso_predict = lasso.predict(x_final_test)"
   ]
  },
  {
   "cell_type": "code",
   "execution_count": 128,
   "id": "ae79ccae-361b-4259-804f-685bb8201436",
   "metadata": {},
   "outputs": [],
   "source": [
    "lasso_rsme = np.sqrt(mean_squared_error(y_test, lasso_predict))"
   ]
  },
  {
   "cell_type": "code",
   "execution_count": 130,
   "id": "7c4a440b-f70b-4283-9b26-5951cec8bbf4",
   "metadata": {},
   "outputs": [
    {
     "data": {
      "text/plain": [
       "28197.621760735667"
      ]
     },
     "execution_count": 130,
     "metadata": {},
     "output_type": "execute_result"
    }
   ],
   "source": [
    "lasso_rsme"
   ]
  },
  {
   "cell_type": "code",
   "execution_count": 132,
   "id": "a0d2a6ed-44db-4639-bd70-b613f4082330",
   "metadata": {},
   "outputs": [
    {
     "data": {
      "text/plain": [
       "0.8729490689087149"
      ]
     },
     "execution_count": 132,
     "metadata": {},
     "output_type": "execute_result"
    }
   ],
   "source": [
    "lasso_score = lasso.score(x_final_test,y_test)\n",
    "lasso_score"
   ]
  },
  {
   "cell_type": "code",
   "execution_count": 178,
   "id": "3865cce2-c366-4ce7-be53-b444f445f3c3",
   "metadata": {},
   "outputs": [],
   "source": [
    "surviving_columns = []\n",
    "for variable, c in zip(x_final_train.columns, lasso.coef_):\n",
    "    if not c == 0:\n",
    "        surviving_columns.append(variable)"
   ]
  },
  {
   "cell_type": "markdown",
   "id": "430008b1-48f4-402d-9ee6-0d997fda9f30",
   "metadata": {},
   "source": [
    "- Above code just collects the infromation of which columns were dropped from the lasso, which will be dropped in the next iteration of my model\n",
    "- That next iteration became L_2"
   ]
  },
  {
   "cell_type": "code",
   "execution_count": 69,
   "id": "a88483c7-5cdc-4f62-9d34-b6bf45eea2b7",
   "metadata": {},
   "outputs": [],
   "source": [
    "X_2 = pd.concat([x_final_test,x_final_train])\n",
    "y_2 = pd.concat([y_test,y_train])"
   ]
  },
  {
   "cell_type": "markdown",
   "id": "6e1f58bc-4457-446a-b450-1025823a5f9d",
   "metadata": {},
   "source": [
    "- As I certainly have a lot to learn here, since I wanted my model to be as ready as possible to submit, so below you will see other model tries"
   ]
  },
  {
   "cell_type": "code",
   "execution_count": 70,
   "id": "0282de17-eac0-4443-97c8-e4b4a66a2c11",
   "metadata": {},
   "outputs": [],
   "source": [
    "X_2 = X_2[surviving_columns]"
   ]
  },
  {
   "cell_type": "code",
   "execution_count": 71,
   "id": "3cd31f89-334e-4819-8866-6e82ed4b2cf4",
   "metadata": {},
   "outputs": [],
   "source": [
    "x_2_train, x_2_test, y_2_train, y_2_test = model_selection.train_test_split(X_2, y_2)"
   ]
  },
  {
   "cell_type": "code",
   "execution_count": 72,
   "id": "cbd616d9-73b2-4878-8be2-6eaaed9c775d",
   "metadata": {},
   "outputs": [],
   "source": [
    "reg_2 = linear_model.LinearRegression()"
   ]
  },
  {
   "cell_type": "code",
   "execution_count": 73,
   "id": "5278e516-e7a1-4343-a854-a89705962df8",
   "metadata": {},
   "outputs": [
    {
     "data": {
      "text/plain": [
       "LinearRegression()"
      ]
     },
     "execution_count": 73,
     "metadata": {},
     "output_type": "execute_result"
    }
   ],
   "source": [
    "reg_2.fit(x_2_train,y_2_train)"
   ]
  },
  {
   "cell_type": "code",
   "execution_count": 74,
   "id": "ef454de1-6515-4642-affb-241b5dd7c9d5",
   "metadata": {},
   "outputs": [
    {
     "data": {
      "text/plain": [
       "0.8864300463146674"
      ]
     },
     "execution_count": 74,
     "metadata": {},
     "output_type": "execute_result"
    }
   ],
   "source": [
    "reg_2.score(x_2_train,y_2_train)"
   ]
  },
  {
   "cell_type": "code",
   "execution_count": 75,
   "id": "13f3ca9d-3f4b-430d-af09-84e0d939a3f0",
   "metadata": {},
   "outputs": [
    {
     "data": {
      "text/plain": [
       "0.9014623939627475"
      ]
     },
     "execution_count": 75,
     "metadata": {},
     "output_type": "execute_result"
    }
   ],
   "source": [
    "reg_2.score(x_2_test,y_2_test)"
   ]
  },
  {
   "cell_type": "markdown",
   "id": "db06ab02-7628-4af4-84d7-9db721437d35",
   "metadata": {},
   "source": [
    "- Since my model's testing is now outperforming training, I think it would be a good time to move to cross validation"
   ]
  },
  {
   "cell_type": "code",
   "execution_count": 76,
   "id": "2fdf6fd2-9f46-4bea-98d1-edc34184744c",
   "metadata": {},
   "outputs": [
    {
     "data": {
      "text/plain": [
       "0.8362118415009709"
      ]
     },
     "execution_count": 76,
     "metadata": {},
     "output_type": "execute_result"
    }
   ],
   "source": [
    "cross_val_score(reg_2,x_2_train,y_2_train, cv=5).mean()"
   ]
  },
  {
   "cell_type": "markdown",
   "id": "4cd3ec06-f04f-424c-a997-1ab97bb1fdd5",
   "metadata": {},
   "source": [
    "- Model is performing pretty well on cross validation"
   ]
  },
  {
   "cell_type": "code",
   "execution_count": 77,
   "id": "062b7b2c-3701-4bf5-8856-76d66a6be918",
   "metadata": {},
   "outputs": [],
   "source": [
    "y_2_pred = reg_2.predict(x_2_test)"
   ]
  },
  {
   "cell_type": "code",
   "execution_count": 78,
   "id": "6a2969ac-4548-4730-96ee-ae82287606a4",
   "metadata": {},
   "outputs": [],
   "source": [
    "reg_2_residuals = [y-yhat for y,yhat in zip(y_2_test,y_2_pred)]"
   ]
  },
  {
   "cell_type": "code",
   "execution_count": 105,
   "id": "a96a3b99-4be5-4b0f-b06a-0597c6a94c9c",
   "metadata": {},
   "outputs": [
    {
     "data": {
      "image/png": "[encoded data removed]",
      "text/plain": [
       "<Figure size 1000x600 with 1 Axes>"
      ]
     },
     "metadata": {},
     "output_type": "display_data"
    }
   ],
   "source": [
    "import matplotlib.pyplot as plt\n",
    "plt.figure(figsize=(10, 6))\n",
    "plt.scatter(y_2_pred, reg_2_residuals)\n",
    "plt.axhline(y=0, color='black', linestyle='--')\n",
    "plt.xlim(0, 600000)\n",
    "plt.ylim(-180000, 180000)\n",
    "plt.xlabel('Predicted Values')\n",
    "plt.ylabel('Residuals')\n",
    "plt.title('Plot of Residuals of Predicted Housing Prices in Ames, Iowa')\n",
    "plt.show()\n"
   ]
  },
  {
   "cell_type": "markdown",
   "id": "0305872a-76b5-43a1-aaed-910a4769e1d1",
   "metadata": {},
   "source": [
    "- By analyzing the residuals of my L_2 model, it looks like my residuals remain broadly random until my predicted price goes above $300K\n",
    "- This could indicate that there could be another model to be done, possibly other details matter more once the houses get very nice "
   ]
  },
  {
   "cell_type": "code",
   "execution_count": 80,
   "id": "61a4ad06-9ff9-4db0-86c8-81bd005c73ae",
   "metadata": {},
   "outputs": [],
   "source": [
    "mse_2 = mean_squared_error(y_2_test, y_2_pred)"
   ]
  },
  {
   "cell_type": "code",
   "execution_count": 81,
   "id": "da6639dd-9987-4c5f-aba5-dfd1c8153638",
   "metadata": {},
   "outputs": [
    {
     "data": {
      "text/plain": [
       "26478.22788165334"
      ]
     },
     "execution_count": 81,
     "metadata": {},
     "output_type": "execute_result"
    }
   ],
   "source": [
    "rmse_2 = np.sqrt(mse_2)\n",
    "rmse_2"
   ]
  },
  {
   "cell_type": "markdown",
   "id": "c9ebe6d5-8255-49a5-813e-90d7b4e0912e",
   "metadata": {},
   "source": [
    "______"
   ]
  },
  {
   "cell_type": "markdown",
   "id": "d16316be-85ae-41bf-bf5f-8d0071c5a2da",
   "metadata": {},
   "source": [
    "## Saving Models down to be formatted properly for submission"
   ]
  },
  {
   "cell_type": "markdown",
   "id": "63932c3f-43c6-4f1e-9266-0b94cb0fde88",
   "metadata": {},
   "source": [
    "#### Original Linear"
   ]
  },
  {
   "cell_type": "code",
   "execution_count": 82,
   "id": "36cbb49e-5f3c-491b-89b0-c1d72da47d55",
   "metadata": {},
   "outputs": [],
   "source": [
    "lin_model_save = pd.DataFrame()\n",
    "lin_model_save['variable'] = x_final_test.columns.values\n",
    "lin_model_save['coefficients'] = reg.coef_\n",
    "lin_model_save.loc[len(lin_model_save)] = ['intercept', reg.intercept_]"
   ]
  },
  {
   "cell_type": "code",
   "execution_count": 83,
   "id": "e16c8d04-8510-4090-87b5-eb963482bef9",
   "metadata": {},
   "outputs": [],
   "source": [
    "lin_model_save.to_csv('../datasets/Linear_Model_coef.csv')"
   ]
  },
  {
   "cell_type": "markdown",
   "id": "35d4a647-8ee5-4690-adad-9541eeb027eb",
   "metadata": {},
   "source": [
    "#### Linear Model with Removed Zero-Coefficients from Lasso"
   ]
  },
  {
   "cell_type": "code",
   "execution_count": 84,
   "id": "d6ce33b9-e7ea-4490-90c6-1beea7e7ddf6",
   "metadata": {},
   "outputs": [],
   "source": [
    "L_2 = pd.DataFrame()\n",
    "L_2['variable'] = X_2.columns.values\n",
    "L_2['coefficients'] = reg_2.coef_\n",
    "L_2.loc[len(lin_model_save)] = ['intercept', reg_2.intercept_]"
   ]
  },
  {
   "cell_type": "code",
   "execution_count": 85,
   "id": "1c16b6b4-1980-4fe3-bfa6-1cee12fdbb33",
   "metadata": {},
   "outputs": [],
   "source": [
    "L_2.to_csv('../datasets/Linear_Model_coef_2.csv')"
   ]
  },
  {
   "cell_type": "markdown",
   "id": "434455c7-dfe7-4863-9acb-02b1e372134f",
   "metadata": {},
   "source": [
    "- Following the Logic of the L_2 Model, will train the entire post-Lasso model "
   ]
  },
  {
   "cell_type": "markdown",
   "id": "895c4b84-6800-4bc7-a06e-3453603ee50d",
   "metadata": {},
   "source": [
    "### Linear Model Trained on Full Training Set"
   ]
  },
  {
   "cell_type": "code",
   "execution_count": 94,
   "id": "5bc604b2-207d-42fe-94ea-f98a17859664",
   "metadata": {},
   "outputs": [
    {
     "data": {
      "text/plain": [
       "0.8930378392943457"
      ]
     },
     "execution_count": 94,
     "metadata": {},
     "output_type": "execute_result"
    }
   ],
   "source": [
    "reg_3 = linear_model.LinearRegression()\n",
    "reg_3.fit(X_2,y_2)\n",
    "reg_3.score(X_2,y_2)"
   ]
  },
  {
   "cell_type": "code",
   "execution_count": 103,
   "id": "0fa39318-a5f8-4123-9485-7559dce35b56",
   "metadata": {},
   "outputs": [
    {
     "data": {
      "text/plain": [
       "83"
      ]
     },
     "execution_count": 103,
     "metadata": {},
     "output_type": "execute_result"
    }
   ],
   "source": [
    "len(X_2.columns)"
   ]
  },
  {
   "cell_type": "code",
   "execution_count": 182,
   "id": "3d4ae7c3-fde9-409d-a2a9-073c072532cd",
   "metadata": {},
   "outputs": [
    {
     "data": {
      "text/plain": [
       "0.8515688119335444"
      ]
     },
     "execution_count": 182,
     "metadata": {},
     "output_type": "execute_result"
    }
   ],
   "source": [
    "cross_val_score(reg_3,X_2,y_2, cv=5).mean()"
   ]
  },
  {
   "cell_type": "code",
   "execution_count": 88,
   "id": "880f9625-3432-403d-83c0-4dff15c06161",
   "metadata": {},
   "outputs": [],
   "source": [
    "L_3 = pd.DataFrame()\n",
    "L_3['variable'] = X_2.columns.values\n",
    "L_3['coefficients'] = reg_3.coef_\n",
    "L_3.loc[len(lin_model_save)] = ['intercept', reg_3.intercept_]"
   ]
  },
  {
   "cell_type": "code",
   "execution_count": 89,
   "id": "2dc5c677-43da-40da-a1ed-ee6378a58d69",
   "metadata": {},
   "outputs": [],
   "source": [
    "L_3.to_csv('../datasets/Linear_Model_coef_3.csv')"
   ]
  },
  {
   "cell_type": "markdown",
   "id": "5191f2b0-7674-4841-be66-cc206aad485e",
   "metadata": {
    "tags": []
   },
   "source": [
    "#### Last-minute Ridge Model out of curiousity"
   ]
  },
  {
   "cell_type": "code",
   "execution_count": 90,
   "id": "4b43dfa2-83d3-4197-a3bb-be6f8b28dd91",
   "metadata": {},
   "outputs": [
    {
     "data": {
      "text/plain": [
       "0.9078351443176091"
      ]
     },
     "execution_count": 90,
     "metadata": {},
     "output_type": "execute_result"
    }
   ],
   "source": [
    "ridge = Ridge()#alpha=alpha\n",
    "ridge.fit(x_final_train, y_train)\n",
    "ridge.score(x_final_train,y_train)"
   ]
  },
  {
   "cell_type": "code",
   "execution_count": 183,
   "id": "416bed1e-02ca-44d6-aeea-bcadb80bf811",
   "metadata": {},
   "outputs": [
    {
     "data": {
      "text/plain": [
       "0.8522124697101471"
      ]
     },
     "execution_count": 183,
     "metadata": {},
     "output_type": "execute_result"
    }
   ],
   "source": [
    "ridge.score(x_final_test, y_test)"
   ]
  },
  {
   "cell_type": "code",
   "execution_count": 185,
   "id": "845ffdb8-735d-4f73-8be8-37f95f82215d",
   "metadata": {},
   "outputs": [
    {
     "data": {
      "text/plain": [
       "1.0"
      ]
     },
     "execution_count": 185,
     "metadata": {},
     "output_type": "execute_result"
    }
   ],
   "source": [
    "ridge.alpha"
   ]
  },
  {
   "cell_type": "markdown",
   "id": "cdc1d176-b06b-4b88-bf26-65c0cc7a57b6",
   "metadata": {},
   "source": [
    "- I saw a little overfitting evidence with Ridge. Further I was seeing stronger scores from lasso, with less evidence of overfitting\n",
    "- Consequently I stuck with the model using Lasso"
   ]
  },
  {
   "cell_type": "code",
   "execution_count": 92,
   "id": "12ae7e40-10be-43b4-9c85-e88d4b89bf04",
   "metadata": {},
   "outputs": [],
   "source": [
    "ridge_model_save = pd.DataFrame()\n",
    "ridge_model_save['variable'] = x_final_train.columns.values\n",
    "ridge_model_save['coefficients'] = ridge.coef_\n",
    "ridge_model_save.loc[len(ridge_model_save)] = ['intercept', ridge.intercept_]"
   ]
  },
  {
   "cell_type": "code",
   "execution_count": 106,
   "id": "454535bd-2732-45c3-a1a8-b6d4cfb229cf",
   "metadata": {},
   "outputs": [],
   "source": [
    "ridge_model_save.to_csv('../datasets/Ridge_Model_coef.csv')"
   ]
  }
 ],
 "metadata": {
  "kernelspec": {
   "display_name": "Python 3 (ipykernel)",
   "language": "python",
   "name": "python3"
  },
  "language_info": {
   "codemirror_mode": {
    "name": "ipython",
    "version": 3
   },
   "file_extension": ".py",
   "mimetype": "text/x-python",
   "name": "python",
   "nbconvert_exporter": "python",
   "pygments_lexer": "ipython3",
   "version": "3.9.13"
  }
 },
 "nbformat": 4,
 "nbformat_minor": 5
}
