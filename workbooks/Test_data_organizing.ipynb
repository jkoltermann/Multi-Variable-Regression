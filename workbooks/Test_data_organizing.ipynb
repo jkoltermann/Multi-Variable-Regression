{
 "cells": [
  {
   "cell_type": "markdown",
   "id": "f7f950c9-a3ad-4ea5-81d0-e95f2cfb5c6b",
   "metadata": {},
   "source": [
    "## Test Data Organizing"
   ]
  },
  {
   "cell_type": "markdown",
   "id": "c71e5249-62d7-4a99-b218-daf69e5c75cd",
   "metadata": {},
   "source": [
    "- Following a very similar format to the data organization of the training data\n",
    "- This is purposeful to ensure that the transformations remain consistent\n",
    "- Additionally, looking forward, this really illuminates how OOD will be necessary for larger projects as I continue through the program. A custom 'Order & Transform' Class with reusable methods could have enabled me to save time and effort. I will be sure to employ this in Project 3"
   ]
  },
  {
   "cell_type": "code",
   "execution_count": 1,
   "id": "418777af-957e-44d0-9492-7d78147c308b",
   "metadata": {},
   "outputs": [],
   "source": [
    "import pandas as pd\n",
    "import numpy as np\n",
    "import os\n",
    "import matplotlib.pyplot as plt\n",
    "from sklearn import model_selection #import train_test_split\n",
    "from sklearn import linear_model #LinearRegression\n",
    "from sklearn import metrics\n",
    "from sklearn.compose import ColumnTransformer\n",
    "from sklearn.preprocessing import OneHotEncoder, StandardScaler\n",
    "pd.options.mode.chained_assignment = None"
   ]
  },
  {
   "cell_type": "code",
   "execution_count": 2,
   "id": "c7883eb1-324c-42d4-a132-05ff155e9865",
   "metadata": {},
   "outputs": [],
   "source": [
    "data = pd.read_csv('../datasets/test.csv', index_col=0)"
   ]
  },
  {
   "cell_type": "code",
   "execution_count": 3,
   "id": "1e899a1b-2c62-4cc1-a11a-e6541539c130",
   "metadata": {},
   "outputs": [],
   "source": [
    "data = data.reset_index()"
   ]
  },
  {
   "cell_type": "code",
   "execution_count": 4,
   "id": "dbd6bad3-e7d7-4d7f-a5da-4f8adec78947",
   "metadata": {},
   "outputs": [],
   "source": [
    "data.columns = data.columns.str.replace(' ', '_').str.lower()"
   ]
  },
  {
   "cell_type": "code",
   "execution_count": 5,
   "id": "f9d9e4fb-7b8f-4fd1-bb66-a490654be500",
   "metadata": {},
   "outputs": [],
   "source": [
    "test_ids = pd.DataFrame()\n",
    "test_ids['id'] =  data.id\n",
    "test_ids.to_csv('../datasets/test_ids.csv')"
   ]
  },
  {
   "cell_type": "code",
   "execution_count": 6,
   "id": "e87f98ca-d122-46f9-8b07-6d872a453dbc",
   "metadata": {},
   "outputs": [],
   "source": [
    "metadata = pd.read_csv('../datasets/metadata-cleaned.csv', index_col=0)"
   ]
  },
  {
   "cell_type": "code",
   "execution_count": 7,
   "id": "eaabfa89-f767-4178-94fc-2adb468ea4a4",
   "metadata": {},
   "outputs": [],
   "source": [
    "metadata = metadata[(metadata.column_name != 'id')]"
   ]
  },
  {
   "cell_type": "code",
   "execution_count": 8,
   "id": "3a20f7e8-ab1f-4ce3-a915-9c1ef0b2a405",
   "metadata": {},
   "outputs": [],
   "source": [
    "metadata = metadata[(metadata.column_name != 'pid')]"
   ]
  },
  {
   "cell_type": "code",
   "execution_count": 9,
   "id": "10bcbe7d-5213-4f78-a2f7-31dd81c921a7",
   "metadata": {},
   "outputs": [],
   "source": [
    "data = data.drop(columns = ['pool_qc','pool_area'])\n",
    "data = data.drop(columns = ['alley'])\n",
    "data = data.drop(columns = ['fence'])\n",
    "data = data.drop(columns = ['garage_qual'])\n",
    "data = data.drop(columns = ['mas_vnr_type'])\n",
    "data = data.drop(columns = ['misc_feature'])"
   ]
  },
  {
   "cell_type": "code",
   "execution_count": 10,
   "id": "72281dde-ed0d-46cc-b725-6e6516388a49",
   "metadata": {},
   "outputs": [],
   "source": [
    "metadata = metadata.reset_index(drop=True)"
   ]
  },
  {
   "cell_type": "code",
   "execution_count": 12,
   "id": "5fc19b08-6ae5-43bc-8e71-c406bee428f9",
   "metadata": {},
   "outputs": [],
   "source": [
    "all_nominals_names = metadata[metadata.variable_type == 'Nominal']"
   ]
  },
  {
   "cell_type": "code",
   "execution_count": 13,
   "id": "d29b5d2e-fa6f-43bb-b60f-055f3e00e9e5",
   "metadata": {},
   "outputs": [],
   "source": [
    "nominals = data[all_nominals_names.column_name]"
   ]
  },
  {
   "cell_type": "code",
   "execution_count": 14,
   "id": "0635a2c1-f80a-4e20-9de8-9f60b4c4770d",
   "metadata": {},
   "outputs": [],
   "source": [
    "numeric_names = metadata[metadata.variable_type == 'Numerical']"
   ]
  },
  {
   "cell_type": "code",
   "execution_count": 15,
   "id": "f76f3c21-5351-47b1-8e22-9ef2f7375b6d",
   "metadata": {},
   "outputs": [],
   "source": [
    "numerics = data[numeric_names.column_name]"
   ]
  },
  {
   "cell_type": "markdown",
   "id": "b93a065c-aacd-41b2-8e71-88bd1750bb3d",
   "metadata": {},
   "source": [
    "### Transform Method from Ordinal Null Handling"
   ]
  },
  {
   "cell_type": "code",
   "execution_count": 16,
   "id": "514e4c57-ca58-4a4e-89ce-da09fd07d30e",
   "metadata": {},
   "outputs": [],
   "source": [
    "def ord_transform(df, col, transform):\n",
    "    '''ord method'''\n",
    "    assert transform\n",
    "    df[col] = df[col].map(transform)\n",
    "    metadata.loc[metadata['column_name'] == col, 'ord_transform_map'] = str(transform)\n",
    "    return df"
   ]
  },
  {
   "cell_type": "code",
   "execution_count": 17,
   "id": "f9a87c8e-46e1-49c2-97a5-f7f7ec3f4d5a",
   "metadata": {},
   "outputs": [],
   "source": [
    "def check_if_transformed(variable):\n",
    "    '''ord method'''\n",
    "    if metadata.loc[metadata['column_name'] == variable, 'ord_transform_map'].isnull().all():\n",
    "        return False\n",
    "    else:\n",
    "        return True"
   ]
  },
  {
   "cell_type": "code",
   "execution_count": 18,
   "id": "c8de8170-1cbc-4cf6-a04f-1907b3bc35e8",
   "metadata": {},
   "outputs": [],
   "source": [
    "def mark_dont_transform(variable):\n",
    "    '''ord method'''\n",
    "    metadata.loc[metadata['column_name'] == variable, 'ord_transform_map'] = 'No Transform'"
   ]
  },
  {
   "cell_type": "code",
   "execution_count": 19,
   "id": "bee39ea7-8d0f-4eb6-a670-3e09ceb7f8a6",
   "metadata": {},
   "outputs": [],
   "source": [
    "popular_ord_transform = {'Ex' : 5,  'Gd' : 4, 'TA' : 3, 'Fa': 2, 'Po' : 1, np.nan: 0} \n",
    "garage_finish_dict = {'Fin':3,'RFn': 2, 'Unf':1, np.nan: 0}\n",
    "basement_finish_dict = {'GLQ':6,'ALQ':5,'BLQ':4,'Rec':3,'LwQ':2,'Unf':1, np.nan:0}\n",
    "basement_exp_dict = {'Gd':3,'Av':2,'Mn':1, 'No':0, np.nan:0}\n",
    "slope_dict = {'Gtl':3, 'Mod':2, 'Sev':1}\n",
    "countour_dict = {'Lvl':4, 'Low':3, 'Bnk':2,'HLS':1}\n",
    "lot_shape_dict = {'Reg':4,'IR1':3,'IR2':2,'IR3':1}\n",
    "functional_dict = {\n",
    "    \"Typ\": 1,\n",
    "    \"Min1\": 2,\n",
    "    \"Min2\": 3,\n",
    "    \"Mod\": 4,\n",
    "    \"Maj1\": 5,\n",
    "    \"Maj2\": 6,\n",
    "    \"Sev\": 7,\n",
    "    \"Sal\": 8}\n",
    "binary_dict = {'Y':1,'N':0}"
   ]
  },
  {
   "cell_type": "code",
   "execution_count": 20,
   "id": "3e5d8e23-8bbc-4b2d-a880-3b101ea7c070",
   "metadata": {},
   "outputs": [],
   "source": [
    "ordinal_names = metadata[metadata.variable_type == 'Ordinal']"
   ]
  },
  {
   "cell_type": "code",
   "execution_count": 21,
   "id": "f8c2948b-194a-45a1-8fbf-f184013974ae",
   "metadata": {},
   "outputs": [],
   "source": [
    "ordinals = data[ordinal_names.column_name]"
   ]
  },
  {
   "cell_type": "code",
   "execution_count": 22,
   "id": "3e6d0db7-bdc0-4e22-96d1-cf73241502b1",
   "metadata": {},
   "outputs": [],
   "source": [
    "for var in ordinals.columns:\n",
    "    if data[var].dtype == 'int64':\n",
    "        mark_dont_transform(var)"
   ]
  },
  {
   "cell_type": "code",
   "execution_count": 23,
   "id": "661e6865-133a-4a39-87d4-8e7ad7709374",
   "metadata": {},
   "outputs": [],
   "source": [
    "def get_ordinals_untransformed():\n",
    "    output = []\n",
    "    for col in ordinals.columns:\n",
    "        if not check_if_transformed(col):\n",
    "            output.append((col,data[col].unique()))\n",
    "    return output"
   ]
  },
  {
   "cell_type": "markdown",
   "id": "6276fd89-663f-40ae-8167-dd81209e531a",
   "metadata": {},
   "source": [
    "### Applying all Translations Transformations to ordinal data"
   ]
  },
  {
   "cell_type": "code",
   "execution_count": 24,
   "id": "e365655a-8dfd-4c28-8b9e-98de51603344",
   "metadata": {},
   "outputs": [],
   "source": [
    "data = ord_transform(data,'fireplace_qu',popular_ord_transform)"
   ]
  },
  {
   "cell_type": "code",
   "execution_count": 25,
   "id": "04f50c5f-ae8f-4710-8202-30e0dda95e19",
   "metadata": {},
   "outputs": [],
   "source": [
    "data = ord_transform(data,'bsmt_qual',popular_ord_transform)"
   ]
  },
  {
   "cell_type": "code",
   "execution_count": 26,
   "id": "ee8e973a-9e35-44cc-9058-7c366e73dabe",
   "metadata": {},
   "outputs": [],
   "source": [
    "data = ord_transform(data,'bsmt_cond',popular_ord_transform)"
   ]
  },
  {
   "cell_type": "code",
   "execution_count": 27,
   "id": "8bda0c49-c64e-47a5-a63c-0d8fae3bc087",
   "metadata": {},
   "outputs": [],
   "source": [
    "data = ord_transform(data,'bsmtfin_type_1',basement_finish_dict)"
   ]
  },
  {
   "cell_type": "code",
   "execution_count": 28,
   "id": "bae1ea95-5659-4012-b3d4-0e4420c3d5f9",
   "metadata": {},
   "outputs": [],
   "source": [
    "data = ord_transform(data,'bsmt_exposure',basement_exp_dict)"
   ]
  },
  {
   "cell_type": "code",
   "execution_count": 29,
   "id": "08bddf24-6bd8-4067-baa6-19af9c68b11a",
   "metadata": {},
   "outputs": [],
   "source": [
    "data = ord_transform(data,'garage_finish',garage_finish_dict)"
   ]
  },
  {
   "cell_type": "code",
   "execution_count": 30,
   "id": "e48e7220-95bd-4f4b-a4b0-6231f7e510dc",
   "metadata": {},
   "outputs": [],
   "source": [
    "data = ord_transform(data,'garage_cond',popular_ord_transform)"
   ]
  },
  {
   "cell_type": "code",
   "execution_count": 31,
   "id": "a8034e6a-59e6-4785-9369-0709b7d6cbeb",
   "metadata": {},
   "outputs": [],
   "source": [
    "data = ord_transform(data,'exter_cond',popular_ord_transform)"
   ]
  },
  {
   "cell_type": "code",
   "execution_count": 32,
   "id": "6f10820d-0f0a-469a-a044-7ce28acd922a",
   "metadata": {},
   "outputs": [],
   "source": [
    "data = ord_transform(data,'heating_qc',popular_ord_transform)"
   ]
  },
  {
   "cell_type": "code",
   "execution_count": 33,
   "id": "1782b68b-74a4-478e-bcd6-14e7e361605b",
   "metadata": {},
   "outputs": [],
   "source": [
    "data = ord_transform(data,'exter_qual',popular_ord_transform)"
   ]
  },
  {
   "cell_type": "code",
   "execution_count": 34,
   "id": "3199aa2c-bb2e-494d-922a-31bb29f060e3",
   "metadata": {},
   "outputs": [],
   "source": [
    "data = ord_transform(data,'kitchen_qual',popular_ord_transform)"
   ]
  },
  {
   "cell_type": "code",
   "execution_count": 35,
   "id": "78e90209-a471-4833-a5a8-0d28d6ef6e62",
   "metadata": {},
   "outputs": [],
   "source": [
    "data = ord_transform(data,'land_slope',slope_dict)"
   ]
  },
  {
   "cell_type": "code",
   "execution_count": 36,
   "id": "dd334aef-a2dc-4033-8655-a98b11ff4c15",
   "metadata": {},
   "outputs": [],
   "source": [
    "data = ord_transform(data,'land_contour',countour_dict)"
   ]
  },
  {
   "cell_type": "code",
   "execution_count": 37,
   "id": "9ef30532-c49b-4b35-bc59-45ff09e1bf15",
   "metadata": {},
   "outputs": [],
   "source": [
    "data = ord_transform(data,'lot_shape',lot_shape_dict)"
   ]
  },
  {
   "cell_type": "code",
   "execution_count": 38,
   "id": "59f6153c-1db0-4e0c-89f8-26144777d7b8",
   "metadata": {},
   "outputs": [],
   "source": [
    "data = ord_transform(data,'paved_drive',{'Y':3,'P':2,'N':1})"
   ]
  },
  {
   "cell_type": "code",
   "execution_count": 39,
   "id": "e472c80e-9bbf-49fb-adcf-78233905bb62",
   "metadata": {},
   "outputs": [],
   "source": [
    "data = ord_transform(data,'functional',functional_dict)"
   ]
  },
  {
   "cell_type": "code",
   "execution_count": 40,
   "id": "2d1d24b5-2b7a-4c89-8689-1deee9d359b2",
   "metadata": {},
   "outputs": [],
   "source": [
    "data = ord_transform(data,'central_air',binary_dict)"
   ]
  },
  {
   "cell_type": "markdown",
   "id": "724d09c7-28c2-40d1-9119-a3fe23e064db",
   "metadata": {},
   "source": [
    "### Data Imputing"
   ]
  },
  {
   "cell_type": "code",
   "execution_count": 41,
   "id": "d69e46fb-230d-4266-8bc5-d5163598c658",
   "metadata": {},
   "outputs": [],
   "source": [
    "def impute(column_names, task, x):\n",
    "    for col in column_names:\n",
    "        if task == 'impute_mean':\n",
    "            impute_item = x[col].mean()\n",
    "        elif task == 'impute_median':\n",
    "            impute_item = x[col].median()\n",
    "        elif task == 'impute_mode':\n",
    "            impute_item = x[col].mode().iloc[0]\n",
    "        else:\n",
    "            raise Exception('insert verified task')\n",
    "        x[col] = x[col].fillna(impute_item)\n",
    "    return x"
   ]
  },
  {
   "cell_type": "code",
   "execution_count": 42,
   "id": "7777f765-d012-47dd-86c1-e1f372ebb0de",
   "metadata": {},
   "outputs": [],
   "source": [
    "mean_cols = metadata[metadata['impute_mean'] == 1].column_name.values"
   ]
  },
  {
   "cell_type": "code",
   "execution_count": 43,
   "id": "7c52329d-c347-46d2-a227-959785068b62",
   "metadata": {},
   "outputs": [],
   "source": [
    "data = impute(mean_cols,'impute_mean',data)"
   ]
  },
  {
   "cell_type": "code",
   "execution_count": 44,
   "id": "fdc8ee5b-d763-428a-a328-909f4039438a",
   "metadata": {},
   "outputs": [],
   "source": [
    "mode_cols = metadata[metadata['impute_mode'] == 1].column_name.values"
   ]
  },
  {
   "cell_type": "code",
   "execution_count": 45,
   "id": "279f1933-eea2-438d-a4af-0413218966ef",
   "metadata": {},
   "outputs": [],
   "source": [
    "data = impute(mode_cols,'impute_mode',data)"
   ]
  },
  {
   "cell_type": "code",
   "execution_count": 46,
   "id": "d7c9b0e9-8593-4897-af6a-7f7925e0d33b",
   "metadata": {},
   "outputs": [],
   "source": [
    "median_cols = metadata[metadata['impute_median'] == 1].column_name.values"
   ]
  },
  {
   "cell_type": "code",
   "execution_count": 47,
   "id": "5a8125f0-d178-4401-9dff-100449c1c969",
   "metadata": {},
   "outputs": [],
   "source": [
    "data = impute(median_cols,'impute_mode',data)"
   ]
  },
  {
   "cell_type": "markdown",
   "id": "ba0b2108-6322-4eb2-a1bd-627c3bacdb5a",
   "metadata": {
    "tags": []
   },
   "source": [
    "#### One-Hot Encoding Nominal Data"
   ]
  },
  {
   "cell_type": "code",
   "execution_count": 48,
   "id": "3c116aaf-2f59-46cd-953a-a983674657d3",
   "metadata": {},
   "outputs": [],
   "source": [
    "nominal_columns = metadata[metadata.variable_type == 'Nominal'].column_name.values\n",
    "#just the names of the columns that are nominal"
   ]
  },
  {
   "cell_type": "code",
   "execution_count": 49,
   "id": "0118d46c-653d-44c2-925b-5006b7f17639",
   "metadata": {},
   "outputs": [],
   "source": [
    "data_encoded = pd.get_dummies(data, columns = nominal_columns,drop_first=True)"
   ]
  },
  {
   "cell_type": "markdown",
   "id": "0d1c193c-f1c1-4ba7-a5f8-a4f37a1d1ec5",
   "metadata": {},
   "source": [
    "#### Normalizing Numeric Data into z-scores based off of test col distributions"
   ]
  },
  {
   "cell_type": "code",
   "execution_count": 50,
   "id": "7a8bfd1f-671b-4ee4-bb68-55559b27ed84",
   "metadata": {},
   "outputs": [],
   "source": [
    "numeric_columns = metadata[metadata.variable_type == 'Numerical'].column_name"
   ]
  },
  {
   "cell_type": "code",
   "execution_count": 51,
   "id": "d28f724d-b42d-42e1-aeb3-a9060fd1c96a",
   "metadata": {},
   "outputs": [],
   "source": [
    "data_numeric = data[numeric_columns]"
   ]
  },
  {
   "cell_type": "code",
   "execution_count": 52,
   "id": "e4929b30-3bad-4ec7-aee6-ed32d351a1d0",
   "metadata": {},
   "outputs": [],
   "source": [
    "scaler = StandardScaler()"
   ]
  },
  {
   "cell_type": "code",
   "execution_count": 53,
   "id": "f63a5623-040a-4fe4-95eb-3a2c1735da85",
   "metadata": {},
   "outputs": [
    {
     "data": {
      "text/plain": [
       "StandardScaler()"
      ]
     },
     "execution_count": 53,
     "metadata": {},
     "output_type": "execute_result"
    }
   ],
   "source": [
    "scaler.fit(data_numeric)"
   ]
  },
  {
   "cell_type": "code",
   "execution_count": 54,
   "id": "7af6eb96-417e-4050-b720-ded4e0de8428",
   "metadata": {},
   "outputs": [],
   "source": [
    "data_num_transformed = scaler.transform(data_numeric)\n",
    "data_num_trans_df = pd.DataFrame(data_num_transformed,columns=numeric_columns,index=None)"
   ]
  },
  {
   "cell_type": "code",
   "execution_count": 55,
   "id": "27ccb435-538b-4372-9abf-337a1dc21161",
   "metadata": {},
   "outputs": [],
   "source": [
    "data_not_numeric = data_encoded.drop(columns=numeric_columns,axis=1)"
   ]
  },
  {
   "cell_type": "code",
   "execution_count": 56,
   "id": "ddce802b-c198-4d70-a3f2-ad1f188ab242",
   "metadata": {},
   "outputs": [],
   "source": [
    "data_not_numeric = data_not_numeric.reset_index(drop=True)"
   ]
  },
  {
   "cell_type": "code",
   "execution_count": 57,
   "id": "eba9c19f-319e-4355-a507-86b1cfb1c892",
   "metadata": {},
   "outputs": [],
   "source": [
    "data_final = data_not_numeric.merge(data_num_trans_df,left_index=True, right_index=True)"
   ]
  },
  {
   "cell_type": "code",
   "execution_count": 58,
   "id": "6568aa85-3294-4fdb-91de-f42d2957818f",
   "metadata": {},
   "outputs": [],
   "source": [
    "data_final = data_final.drop(columns = ['id','pid'])"
   ]
  },
  {
   "cell_type": "code",
   "execution_count": 59,
   "id": "a5ff959e-b6ee-4c43-a0d4-b5e459db7834",
   "metadata": {},
   "outputs": [],
   "source": [
    "data_final.to_csv('../datasets/test_Prepared.csv')"
   ]
  }
 ],
 "metadata": {
  "kernelspec": {
   "display_name": "Python 3 (ipykernel)",
   "language": "python",
   "name": "python3"
  },
  "language_info": {
   "codemirror_mode": {
    "name": "ipython",
    "version": 3
   },
   "file_extension": ".py",
   "mimetype": "text/x-python",
   "name": "python",
   "nbconvert_exporter": "python",
   "pygments_lexer": "ipython3",
   "version": "3.9.13"
  }
 },
 "nbformat": 4,
 "nbformat_minor": 5
}
