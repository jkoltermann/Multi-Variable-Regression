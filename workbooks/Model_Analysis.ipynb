{
 "cells": [
  {
   "cell_type": "code",
   "execution_count": 1,
   "id": "bcd5becc-9ed1-41e2-b022-0bf2cb2b57c1",
   "metadata": {},
   "outputs": [],
   "source": [
    "import pandas as pd\n",
    "import numpy as np\n",
    "import os\n",
    "import matplotlib.pyplot as plt\n",
    "from sklearn import model_selection #import train_test_split\n",
    "from sklearn import linear_model #LinearRegression\n",
    "from sklearn.preprocessing import OneHotEncoder, StandardScaler"
   ]
  },
  {
   "cell_type": "code",
   "execution_count": 2,
   "id": "8bf2d575-8510-4280-ad05-3af345c70965",
   "metadata": {},
   "outputs": [],
   "source": [
    "Ridge_Model = pd.read_csv('../datasets/Ridge_Model_coef.csv',index_col=0)"
   ]
  },
  {
   "cell_type": "code",
   "execution_count": 3,
   "id": "70af9c70-e9bb-48b9-8855-4cd54f74de6b",
   "metadata": {},
   "outputs": [],
   "source": [
    "test_data = pd.read_csv('../datasets/test_Prepared.csv',index_col=0)\n",
    "test_ids = pd.read_csv('../datasets/test_ids.csv',index_col=0)"
   ]
  },
  {
   "cell_type": "code",
   "execution_count": 4,
   "id": "99af0a6d-6fc0-493c-bc82-7ef9cfa5052b",
   "metadata": {},
   "outputs": [],
   "source": [
    "Linear_Model = pd.read_csv('../datasets/Linear_Model_coef.csv',index_col=0)"
   ]
  },
  {
   "cell_type": "code",
   "execution_count": 5,
   "id": "4b07a94b-f52c-44c2-abd1-a91e74097f73",
   "metadata": {},
   "outputs": [],
   "source": [
    "Linear_2 = pd.read_csv('../datasets/Linear_Model_coef_2.csv',index_col=0)"
   ]
  },
  {
   "cell_type": "code",
   "execution_count": 6,
   "id": "e89d6647-7f2f-4b80-b2dc-ff81418aca6d",
   "metadata": {},
   "outputs": [],
   "source": [
    "L_3 = pd.read_csv('../datasets/Linear_Model_coef_3.csv',index_col=0)"
   ]
  },
  {
   "cell_type": "code",
   "execution_count": 7,
   "id": "4eeb1e37-f8a3-46f9-9158-f71b0e0be96c",
   "metadata": {},
   "outputs": [],
   "source": [
    "def frame_model(model_data):\n",
    "    extract_intercept = model_data.iloc[-1][1]\n",
    "    model_data = model_data.drop(model_data.tail(1).index)\n",
    "    return model_data, extract_intercept"
   ]
  },
  {
   "cell_type": "code",
   "execution_count": 8,
   "id": "dd31296c-fe9d-4e83-bc06-847ff3e778d0",
   "metadata": {},
   "outputs": [],
   "source": [
    "def frame_test_data(test_data,model_data):\n",
    "    for var in model_data.variable:\n",
    "        if not var in test_data.columns.values and var != 'intercept':\n",
    "            test_data[var] =  np.zeros(test_data.shape[0])\n",
    "    needed_order = [x for x in model_data.variable]\n",
    "    test_data = test_data[needed_order]\n",
    "    test_data.reindex(columns=needed_order)\n",
    "    return test_data"
   ]
  },
  {
   "cell_type": "code",
   "execution_count": 9,
   "id": "b2d997ec-40cf-40c8-9db9-2a5d9b04348b",
   "metadata": {},
   "outputs": [],
   "source": [
    "def evaluate_predictions(test_data,model_data):\n",
    "    model = linear_model.LinearRegression()\n",
    "    model_data, model.intercept_ =  frame_model(model_data)\n",
    "    model.coef_ = model_data.coefficients\n",
    "    fitted_data = frame_test_data(test_data,model_data)\n",
    "    return model.predict(fitted_data.values)"
   ]
  },
  {
   "cell_type": "code",
   "execution_count": 10,
   "id": "24b2b316-b607-4644-bb0b-185021dc7c46",
   "metadata": {},
   "outputs": [],
   "source": [
    "def create_output(test_data,model_data):\n",
    "    preds = evaluate_predictions(test_data,model_data)\n",
    "    ids = test_ids.id\n",
    "    output = pd.DataFrame()\n",
    "    output['Id'] = ids\n",
    "    output['SalePrice'] = preds\n",
    "    return output"
   ]
  },
  {
   "cell_type": "code",
   "execution_count": 15,
   "id": "2605f74d-924c-4881-98b6-d4928b111f27",
   "metadata": {},
   "outputs": [],
   "source": [
    "create_output(test_data,Ridge_Model).to_csv('../datasets/Ridge_try.csv')"
   ]
  },
  {
   "cell_type": "code",
   "execution_count": 12,
   "id": "6f8f7819-b596-4c23-938c-a0975d50af3e",
   "metadata": {},
   "outputs": [
    {
     "data": {
      "text/html": [
       "<div>\n",
       "<style scoped>\n",
       "    .dataframe tbody tr th:only-of-type {\n",
       "        vertical-align: middle;\n",
       "    }\n",
       "\n",
       "    .dataframe tbody tr th {\n",
       "        vertical-align: top;\n",
       "    }\n",
       "\n",
       "    .dataframe thead th {\n",
       "        text-align: right;\n",
       "    }\n",
       "</style>\n",
       "<table border=\"1\" class=\"dataframe\">\n",
       "  <thead>\n",
       "    <tr style=\"text-align: right;\">\n",
       "      <th></th>\n",
       "      <th>Id</th>\n",
       "      <th>SalePrice</th>\n",
       "    </tr>\n",
       "  </thead>\n",
       "  <tbody>\n",
       "    <tr>\n",
       "      <th>count</th>\n",
       "      <td>878.000000</td>\n",
       "      <td>878.000000</td>\n",
       "    </tr>\n",
       "    <tr>\n",
       "      <th>mean</th>\n",
       "      <td>1444.749431</td>\n",
       "      <td>-425125.452269</td>\n",
       "    </tr>\n",
       "    <tr>\n",
       "      <th>std</th>\n",
       "      <td>850.838263</td>\n",
       "      <td>111943.995656</td>\n",
       "    </tr>\n",
       "    <tr>\n",
       "      <th>min</th>\n",
       "      <td>2.000000</td>\n",
       "      <td>-619426.855403</td>\n",
       "    </tr>\n",
       "    <tr>\n",
       "      <th>25%</th>\n",
       "      <td>692.250000</td>\n",
       "      <td>-486616.395285</td>\n",
       "    </tr>\n",
       "    <tr>\n",
       "      <th>50%</th>\n",
       "      <td>1433.000000</td>\n",
       "      <td>-453588.909605</td>\n",
       "    </tr>\n",
       "    <tr>\n",
       "      <th>75%</th>\n",
       "      <td>2197.500000</td>\n",
       "      <td>-393753.738001</td>\n",
       "    </tr>\n",
       "    <tr>\n",
       "      <th>max</th>\n",
       "      <td>2928.000000</td>\n",
       "      <td>545149.817056</td>\n",
       "    </tr>\n",
       "  </tbody>\n",
       "</table>\n",
       "</div>"
      ],
      "text/plain": [
       "                Id      SalePrice\n",
       "count   878.000000     878.000000\n",
       "mean   1444.749431 -425125.452269\n",
       "std     850.838263  111943.995656\n",
       "min       2.000000 -619426.855403\n",
       "25%     692.250000 -486616.395285\n",
       "50%    1433.000000 -453588.909605\n",
       "75%    2197.500000 -393753.738001\n",
       "max    2928.000000  545149.817056"
      ]
     },
     "execution_count": 12,
     "metadata": {},
     "output_type": "execute_result"
    }
   ],
   "source": [
    "create_output(test_data,Linear_Model).describe()"
   ]
  },
  {
   "cell_type": "code",
   "execution_count": 13,
   "id": "bb70ca7e-8916-4420-a043-a9118dbf8c26",
   "metadata": {},
   "outputs": [],
   "source": [
    "create_output(test_data,Linear_2).to_csv('../datasets/submission_two.csv')"
   ]
  },
  {
   "cell_type": "code",
   "execution_count": 14,
   "id": "8f7760e7-9325-4f7a-9392-8ec55fe71537",
   "metadata": {},
   "outputs": [],
   "source": [
    "create_output(test_data,L_3).to_csv('../datasets/submission_three.csv')"
   ]
  }
 ],
 "metadata": {
  "kernelspec": {
   "display_name": "Python 3 (ipykernel)",
   "language": "python",
   "name": "python3"
  },
  "language_info": {
   "codemirror_mode": {
    "name": "ipython",
    "version": 3
   },
   "file_extension": ".py",
   "mimetype": "text/x-python",
   "name": "python",
   "nbconvert_exporter": "python",
   "pygments_lexer": "ipython3",
   "version": "3.9.13"
  }
 },
 "nbformat": 4,
 "nbformat_minor": 5
}
