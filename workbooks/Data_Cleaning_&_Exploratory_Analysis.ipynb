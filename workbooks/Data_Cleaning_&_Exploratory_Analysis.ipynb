{
 "cells": [
  {
   "cell_type": "markdown",
   "id": "0d84eb1f-8d03-4015-abd0-cdb57831e885",
   "metadata": {},
   "source": [
    "# Project 2: Ames Iowa Home Price Predictions"
   ]
  },
  {
   "cell_type": "code",
   "execution_count": 1,
   "id": "0f93ecdd-ab9e-43ec-981c-254a7ec4fa11",
   "metadata": {
    "tags": []
   },
   "outputs": [],
   "source": [
    "import pandas as pd\n",
    "import numpy as np\n",
    "import os"
   ]
  },
  {
   "cell_type": "markdown",
   "id": "83ef025d-b854-48df-82e2-455e10db95e5",
   "metadata": {},
   "source": [
    "### Data Cleaning"
   ]
  },
  {
   "cell_type": "code",
   "execution_count": 2,
   "id": "80eb0ee1-f6e0-49f1-b472-5d056fa04655",
   "metadata": {
    "tags": []
   },
   "outputs": [
    {
     "data": {
      "text/plain": [
       "2051"
      ]
     },
     "execution_count": 2,
     "metadata": {},
     "output_type": "execute_result"
    }
   ],
   "source": [
    "raw_unedited_copy = pd.read_csv('../datasets/train.csv')\n",
    "raw_data = pd.read_csv('../datasets/train.csv')\n",
    "raw_data.columns = raw_data.columns.str.replace(' ', '_').str.lower()\n",
    "raw_data.shape[0]"
   ]
  },
  {
   "cell_type": "code",
   "execution_count": 3,
   "id": "03883b14-a899-489d-aa34-e849818201e7",
   "metadata": {
    "tags": []
   },
   "outputs": [],
   "source": [
    "metadata = pd.read_csv('../datasets/ames_metadata.csv', index_col=0)\n",
    "metadata = metadata.assign(ord_transform_map = None)"
   ]
  },
  {
   "cell_type": "markdown",
   "id": "49404d51-a318-448f-a60d-abcc65b7b68f",
   "metadata": {},
   "source": [
    "- Creating a simple dataframe that runs through all of the columns in the data, which will then be manually classified as \\\n",
    "Nom / Ord / numerical data"
   ]
  },
  {
   "cell_type": "markdown",
   "id": "b14c3b73-224d-49c2-8002-e82b35e73507",
   "metadata": {},
   "source": [
    "- This will be used to reference specific types of variables, which will be very helpful for null_handling and broader organization"
   ]
  },
  {
   "cell_type": "code",
   "execution_count": 4,
   "id": "74f84ff2-3ae5-446d-8f7b-f3b3b6ec764b",
   "metadata": {},
   "outputs": [],
   "source": [
    "def get_variable_type(df, col):\n",
    "    # Get the variable type of the specified column\n",
    "    variable_type = metadata.loc[metadata['column_name'] == col, 'variable_type'].iloc[0]\n",
    "    return variable_type"
   ]
  },
  {
   "cell_type": "code",
   "execution_count": 5,
   "id": "f0dc6be9-1568-4dd1-b506-d260f86ef53f",
   "metadata": {},
   "outputs": [],
   "source": [
    "def check_nulls(df):\n",
    "    '''\n",
    "    returns full dict with null counts\n",
    "    as well as a dict with only null counts greater than zero\n",
    "    '''\n",
    "    all_cols = {}\n",
    "    for col in df.columns:\n",
    "        all_cols[col] = df[col].isnull().sum()\n",
    "    \n",
    "    not_zero = {}\n",
    "    for key, val in all_cols.items():\n",
    "        if val > 0:\n",
    "            not_zero[key] = val\n",
    "        \n",
    "    return all_cols, not_zero"
   ]
  },
  {
   "cell_type": "code",
   "execution_count": 6,
   "id": "1300d128-dc66-4d57-b9c8-a76d49e7b204",
   "metadata": {},
   "outputs": [],
   "source": [
    "null_dict = check_nulls(raw_data)[1]"
   ]
  },
  {
   "cell_type": "code",
   "execution_count": 7,
   "id": "2c57f9d0-d97c-4299-9eeb-e128684bd5cf",
   "metadata": {},
   "outputs": [],
   "source": [
    "cols_w_nulls = check_nulls(raw_data)[1].keys()"
   ]
  },
  {
   "cell_type": "markdown",
   "id": "edec72de-135a-4bfe-9ec6-f7e05179a3a5",
   "metadata": {},
   "source": [
    "___________\n",
    "#### Checking Value of Using most null Columns"
   ]
  },
  {
   "cell_type": "code",
   "execution_count": 8,
   "id": "b8fe538b-c2a2-458b-9a65-e27886f14214",
   "metadata": {},
   "outputs": [
    {
     "data": {
      "text/plain": [
       "0       NaN\n",
       "1       NaN\n",
       "2       NaN\n",
       "3       NaN\n",
       "4       NaN\n",
       "       ... \n",
       "2046    NaN\n",
       "2047    NaN\n",
       "2048    NaN\n",
       "2049    NaN\n",
       "2050    NaN\n",
       "Name: pool_qc, Length: 2051, dtype: object"
      ]
     },
     "execution_count": 8,
     "metadata": {},
     "output_type": "execute_result"
    }
   ],
   "source": [
    "raw_data.loc[:,[x for x in cols_w_nulls if null_dict[x] >= 150]]['pool_qc']"
   ]
  },
  {
   "cell_type": "markdown",
   "id": "45972f2d-478b-416d-b945-4e8bde25e076",
   "metadata": {},
   "source": [
    "### Handling of Variable types Notes"
   ]
  },
  {
   "cell_type": "markdown",
   "id": "265ba838-5a9c-4a7c-90d6-5c9ad2d072c6",
   "metadata": {},
   "source": [
    "- As shown below. All variables in this model have been manually labeled\n",
    "- See below for summary statistics of the variable types"
   ]
  },
  {
   "cell_type": "code",
   "execution_count": 9,
   "id": "ece5181c-cb42-4567-a7c9-89a2768fa54a",
   "metadata": {},
   "outputs": [
    {
     "data": {
      "text/plain": [
       "array(['Nominal', 'Numerical', 'Ordinal', 'Binary', 'Target'],\n",
       "      dtype=object)"
      ]
     },
     "execution_count": 9,
     "metadata": {},
     "output_type": "execute_result"
    }
   ],
   "source": [
    "metadata['variable_type'].unique()"
   ]
  },
  {
   "cell_type": "code",
   "execution_count": 10,
   "id": "729ff07d-8bf1-478b-8645-e9b4d42c1264",
   "metadata": {},
   "outputs": [
    {
     "data": {
      "text/html": [
       "<div>\n",
       "<style scoped>\n",
       "    .dataframe tbody tr th:only-of-type {\n",
       "        vertical-align: middle;\n",
       "    }\n",
       "\n",
       "    .dataframe tbody tr th {\n",
       "        vertical-align: top;\n",
       "    }\n",
       "\n",
       "    .dataframe thead tr th {\n",
       "        text-align: left;\n",
       "    }\n",
       "\n",
       "    .dataframe thead tr:last-of-type th {\n",
       "        text-align: right;\n",
       "    }\n",
       "</style>\n",
       "<table border=\"1\" class=\"dataframe\">\n",
       "  <thead>\n",
       "    <tr>\n",
       "      <th></th>\n",
       "      <th colspan=\"8\" halign=\"left\">is_unique</th>\n",
       "      <th colspan=\"8\" halign=\"left\">is_target</th>\n",
       "    </tr>\n",
       "    <tr>\n",
       "      <th></th>\n",
       "      <th>count</th>\n",
       "      <th>mean</th>\n",
       "      <th>std</th>\n",
       "      <th>min</th>\n",
       "      <th>25%</th>\n",
       "      <th>50%</th>\n",
       "      <th>75%</th>\n",
       "      <th>max</th>\n",
       "      <th>count</th>\n",
       "      <th>mean</th>\n",
       "      <th>std</th>\n",
       "      <th>min</th>\n",
       "      <th>25%</th>\n",
       "      <th>50%</th>\n",
       "      <th>75%</th>\n",
       "      <th>max</th>\n",
       "    </tr>\n",
       "    <tr>\n",
       "      <th>variable_type</th>\n",
       "      <th></th>\n",
       "      <th></th>\n",
       "      <th></th>\n",
       "      <th></th>\n",
       "      <th></th>\n",
       "      <th></th>\n",
       "      <th></th>\n",
       "      <th></th>\n",
       "      <th></th>\n",
       "      <th></th>\n",
       "      <th></th>\n",
       "      <th></th>\n",
       "      <th></th>\n",
       "      <th></th>\n",
       "      <th></th>\n",
       "      <th></th>\n",
       "    </tr>\n",
       "  </thead>\n",
       "  <tbody>\n",
       "    <tr>\n",
       "      <th>Binary</th>\n",
       "      <td>1.0</td>\n",
       "      <td>0.00</td>\n",
       "      <td>NaN</td>\n",
       "      <td>0.0</td>\n",
       "      <td>0.0</td>\n",
       "      <td>0.0</td>\n",
       "      <td>0.0</td>\n",
       "      <td>0.0</td>\n",
       "      <td>1.0</td>\n",
       "      <td>0.0</td>\n",
       "      <td>NaN</td>\n",
       "      <td>0.0</td>\n",
       "      <td>0.0</td>\n",
       "      <td>0.0</td>\n",
       "      <td>0.0</td>\n",
       "      <td>0.0</td>\n",
       "    </tr>\n",
       "    <tr>\n",
       "      <th>Nominal</th>\n",
       "      <td>25.0</td>\n",
       "      <td>0.08</td>\n",
       "      <td>0.276887</td>\n",
       "      <td>0.0</td>\n",
       "      <td>0.0</td>\n",
       "      <td>0.0</td>\n",
       "      <td>0.0</td>\n",
       "      <td>1.0</td>\n",
       "      <td>25.0</td>\n",
       "      <td>0.0</td>\n",
       "      <td>0.0</td>\n",
       "      <td>0.0</td>\n",
       "      <td>0.0</td>\n",
       "      <td>0.0</td>\n",
       "      <td>0.0</td>\n",
       "      <td>0.0</td>\n",
       "    </tr>\n",
       "    <tr>\n",
       "      <th>Numerical</th>\n",
       "      <td>29.0</td>\n",
       "      <td>0.00</td>\n",
       "      <td>0.000000</td>\n",
       "      <td>0.0</td>\n",
       "      <td>0.0</td>\n",
       "      <td>0.0</td>\n",
       "      <td>0.0</td>\n",
       "      <td>0.0</td>\n",
       "      <td>29.0</td>\n",
       "      <td>0.0</td>\n",
       "      <td>0.0</td>\n",
       "      <td>0.0</td>\n",
       "      <td>0.0</td>\n",
       "      <td>0.0</td>\n",
       "      <td>0.0</td>\n",
       "      <td>0.0</td>\n",
       "    </tr>\n",
       "    <tr>\n",
       "      <th>Ordinal</th>\n",
       "      <td>25.0</td>\n",
       "      <td>0.00</td>\n",
       "      <td>0.000000</td>\n",
       "      <td>0.0</td>\n",
       "      <td>0.0</td>\n",
       "      <td>0.0</td>\n",
       "      <td>0.0</td>\n",
       "      <td>0.0</td>\n",
       "      <td>25.0</td>\n",
       "      <td>0.0</td>\n",
       "      <td>0.0</td>\n",
       "      <td>0.0</td>\n",
       "      <td>0.0</td>\n",
       "      <td>0.0</td>\n",
       "      <td>0.0</td>\n",
       "      <td>0.0</td>\n",
       "    </tr>\n",
       "    <tr>\n",
       "      <th>Target</th>\n",
       "      <td>1.0</td>\n",
       "      <td>0.00</td>\n",
       "      <td>NaN</td>\n",
       "      <td>0.0</td>\n",
       "      <td>0.0</td>\n",
       "      <td>0.0</td>\n",
       "      <td>0.0</td>\n",
       "      <td>0.0</td>\n",
       "      <td>1.0</td>\n",
       "      <td>1.0</td>\n",
       "      <td>NaN</td>\n",
       "      <td>1.0</td>\n",
       "      <td>1.0</td>\n",
       "      <td>1.0</td>\n",
       "      <td>1.0</td>\n",
       "      <td>1.0</td>\n",
       "    </tr>\n",
       "  </tbody>\n",
       "</table>\n",
       "</div>"
      ],
      "text/plain": [
       "              is_unique                                          is_target  \\\n",
       "                  count  mean       std  min  25%  50%  75%  max     count   \n",
       "variable_type                                                                \n",
       "Binary              1.0  0.00       NaN  0.0  0.0  0.0  0.0  0.0       1.0   \n",
       "Nominal            25.0  0.08  0.276887  0.0  0.0  0.0  0.0  1.0      25.0   \n",
       "Numerical          29.0  0.00  0.000000  0.0  0.0  0.0  0.0  0.0      29.0   \n",
       "Ordinal            25.0  0.00  0.000000  0.0  0.0  0.0  0.0  0.0      25.0   \n",
       "Target              1.0  0.00       NaN  0.0  0.0  0.0  0.0  0.0       1.0   \n",
       "\n",
       "                                                  \n",
       "              mean  std  min  25%  50%  75%  max  \n",
       "variable_type                                     \n",
       "Binary         0.0  NaN  0.0  0.0  0.0  0.0  0.0  \n",
       "Nominal        0.0  0.0  0.0  0.0  0.0  0.0  0.0  \n",
       "Numerical      0.0  0.0  0.0  0.0  0.0  0.0  0.0  \n",
       "Ordinal        0.0  0.0  0.0  0.0  0.0  0.0  0.0  \n",
       "Target         1.0  NaN  1.0  1.0  1.0  1.0  1.0  "
      ]
     },
     "execution_count": 10,
     "metadata": {},
     "output_type": "execute_result"
    }
   ],
   "source": [
    "metadata.groupby('variable_type').describe()"
   ]
  },
  {
   "cell_type": "code",
   "execution_count": 11,
   "id": "6d9154b4-405e-45ce-8862-2a448c04b4ed",
   "metadata": {},
   "outputs": [],
   "source": [
    "cleaned_data = raw_data"
   ]
  },
  {
   "cell_type": "markdown",
   "id": "bcca91e3-f011-4569-820e-a35ed1f59873",
   "metadata": {},
   "source": [
    "### Null Handling Notes"
   ]
  },
  {
   "cell_type": "markdown",
   "id": "b7208f29-ed06-4006-8770-131ec0eed40f",
   "metadata": {},
   "source": [
    "### Data Eliminations"
   ]
  },
  {
   "cell_type": "markdown",
   "id": "88ee0653-6f67-4020-b326-635d01a5fa1b",
   "metadata": {},
   "source": [
    "#### Pool Columns"
   ]
  },
  {
   "cell_type": "code",
   "execution_count": 12,
   "id": "7ec60fb7-89cb-4d55-ac68-b2c7fd55af2f",
   "metadata": {},
   "outputs": [
    {
     "data": {
      "text/plain": [
       "2042"
      ]
     },
     "execution_count": 12,
     "metadata": {},
     "output_type": "execute_result"
    }
   ],
   "source": [
    "cleaned_data[cleaned_data['pool_area'] == 0].shape[0]"
   ]
  },
  {
   "cell_type": "markdown",
   "id": "3213a411-1412-4954-8efe-7201f5ee8a1f",
   "metadata": {},
   "source": [
    "- 2042 homes in this area do not have pools. will be dropping the two corresponding columns"
   ]
  },
  {
   "cell_type": "code",
   "execution_count": 13,
   "id": "b42c9995-95f6-48ae-98c1-c10b97f02c8a",
   "metadata": {},
   "outputs": [],
   "source": [
    "cleaned_data = cleaned_data.drop(columns = ['pool_qc','pool_area'])"
   ]
  },
  {
   "cell_type": "markdown",
   "id": "d2dd4a7f-3855-4c7c-a9dd-bbf709f03540",
   "metadata": {},
   "source": [
    "___________"
   ]
  },
  {
   "cell_type": "markdown",
   "id": "a54cc040-46e6-4faf-b994-2feefc0004f0",
   "metadata": {},
   "source": [
    "#### Alley"
   ]
  },
  {
   "cell_type": "markdown",
   "id": "0551ea49-b695-47a3-bd7c-463b11f42866",
   "metadata": {},
   "source": [
    "- Alley access is very infrequently a feature of single-family housing. It shouldn't be taken seriously as a value-driving variable"
   ]
  },
  {
   "cell_type": "code",
   "execution_count": 14,
   "id": "9f72891d-84b2-4b76-80a1-c0d162ddf361",
   "metadata": {},
   "outputs": [],
   "source": [
    "cleaned_data = cleaned_data.drop(columns = ['alley'])"
   ]
  },
  {
   "cell_type": "markdown",
   "id": "3e9157c9-7425-4bed-bf7b-c3525884b716",
   "metadata": {},
   "source": [
    "___________"
   ]
  },
  {
   "cell_type": "markdown",
   "id": "efcd5549-2295-4dae-87ef-edbfdc49d701",
   "metadata": {},
   "source": [
    "#### Fence"
   ]
  },
  {
   "cell_type": "markdown",
   "id": "8a02e426-7dc1-468a-9c88-e89aeaf366ab",
   "metadata": {},
   "source": [
    "- Fensing is really very inexpensive in comparison to a house. From my background in the industry it truely doesn't belong here"
   ]
  },
  {
   "cell_type": "code",
   "execution_count": 15,
   "id": "6b1e1c9e-46c2-44cb-a609-bd8276e8fca9",
   "metadata": {},
   "outputs": [],
   "source": [
    "cleaned_data = cleaned_data.drop(columns = ['fence'])"
   ]
  },
  {
   "cell_type": "markdown",
   "id": "035d4931-92c6-41fc-8c20-48d1a20bb925",
   "metadata": {},
   "source": [
    "__________"
   ]
  },
  {
   "cell_type": "markdown",
   "id": "98572c35-f1b3-461c-bcb6-7ba718b347c3",
   "metadata": {},
   "source": [
    "#### Garage Columns"
   ]
  },
  {
   "cell_type": "code",
   "execution_count": 16,
   "id": "3ad58e65-007a-4c46-8f7e-d87bcdd0a9d7",
   "metadata": {},
   "outputs": [
    {
     "data": {
      "text/plain": [
       "count     1937\n",
       "unique       5\n",
       "top         TA\n",
       "freq      1832\n",
       "Name: garage_qual, dtype: object"
      ]
     },
     "execution_count": 16,
     "metadata": {},
     "output_type": "execute_result"
    }
   ],
   "source": [
    "cleaned_data['garage_qual'].describe()"
   ]
  },
  {
   "cell_type": "markdown",
   "id": "3224bf95-99cc-4961-9794-bc66648a6ae9",
   "metadata": {},
   "source": [
    "- Garage appears to not vary in quality, will drop this column"
   ]
  },
  {
   "cell_type": "code",
   "execution_count": 17,
   "id": "13706ca0-330a-4813-bf31-d1eeafe4f059",
   "metadata": {},
   "outputs": [],
   "source": [
    "cleaned_data = cleaned_data.drop(columns = ['garage_qual'])"
   ]
  },
  {
   "cell_type": "markdown",
   "id": "05e175cc-b9eb-4e61-b9cb-0b385dcd98ae",
   "metadata": {},
   "source": [
    "_________________"
   ]
  },
  {
   "cell_type": "markdown",
   "id": "5370f15f-f355-48a8-90a3-3dda3704dbd0",
   "metadata": {},
   "source": [
    "#### Masonry veneer type"
   ]
  },
  {
   "cell_type": "code",
   "execution_count": 18,
   "id": "1e11e0b7-803e-4339-83d9-659102518167",
   "metadata": {},
   "outputs": [
    {
     "data": {
      "text/plain": [
       "count     2029\n",
       "unique       4\n",
       "top       None\n",
       "freq      1218\n",
       "Name: mas_vnr_type, dtype: object"
      ]
     },
     "execution_count": 18,
     "metadata": {},
     "output_type": "execute_result"
    }
   ],
   "source": [
    "cleaned_data['mas_vnr_type'].describe()"
   ]
  },
  {
   "cell_type": "markdown",
   "id": "56ce0448-ac6d-4ab4-95dd-f44c32d01751",
   "metadata": {},
   "source": [
    "- Veneer type is most often a none. Doesn't appear to be a major value driver either. Will drop from model"
   ]
  },
  {
   "cell_type": "code",
   "execution_count": 19,
   "id": "960ad97f-cb90-43f4-bcdf-66a07ce3832f",
   "metadata": {},
   "outputs": [],
   "source": [
    "cleaned_data = cleaned_data.drop(columns = ['mas_vnr_type'])"
   ]
  },
  {
   "cell_type": "markdown",
   "id": "faa49fd3-7b46-4298-b2a3-078fc4ec84c2",
   "metadata": {},
   "source": [
    "__________"
   ]
  },
  {
   "cell_type": "markdown",
   "id": "cb455db5-536e-4696-b05a-d44d18f77bab",
   "metadata": {},
   "source": [
    "[Placeholder]: going to ignore misc feature for now, may incorporate later in more complicated model"
   ]
  },
  {
   "cell_type": "code",
   "execution_count": 20,
   "id": "4911a0d7-1d17-4888-8b84-de5012d4aeab",
   "metadata": {},
   "outputs": [],
   "source": [
    "cleaned_data = cleaned_data.drop(columns = ['misc_feature'])"
   ]
  },
  {
   "cell_type": "markdown",
   "id": "5cdc2e7e-ae2a-40df-8227-b41edb31ec0d",
   "metadata": {},
   "source": [
    "_______"
   ]
  },
  {
   "cell_type": "markdown",
   "id": "8abef2c3-043e-4474-ae51-3792e2a8bf6b",
   "metadata": {
    "tags": []
   },
   "source": [
    "### Ordinal Variables Transformations: Not exactly 'nulls'-per se"
   ]
  },
  {
   "cell_type": "markdown",
   "id": "b8c9f6a9-edce-4881-912f-b6eaa0167ef4",
   "metadata": {},
   "source": [
    " - According to the data dictionary provided by kaggle, the NA's in these cases are less nulls, and should be interpreted as 'not applicable.' in the following ordinal cases, will translate ordinal value-drivers as described above"
   ]
  },
  {
   "cell_type": "code",
   "execution_count": 21,
   "id": "0362ae61-3e9e-4851-b41d-bef9b6ad2415",
   "metadata": {},
   "outputs": [],
   "source": [
    "popular_ord_transform = {'Ex' : 5,  'Gd' : 4, 'TA' : 3, 'Fa': 2, 'Po' : 1, np.nan: 0} \n",
    "#will be useded multiple times for transformations\n",
    "\n",
    "garage_finish_dict = {'Fin':3,'RFn': 2, 'Unf':1, np.nan: 0}\n",
    "basement_finish_dict = {'GLQ':6,'ALQ':5,'BLQ':4,'Rec':3,'LwQ':2,'Unf':1, np.nan:0}\n",
    "basement_exp_dict = {'Gd':3,'Av':2,'Mn':1, 'No':0, np.nan:0}\n",
    "#treating having no basement exposure as the same as no basement at all WRT this particular variable"
   ]
  },
  {
   "cell_type": "code",
   "execution_count": 22,
   "id": "133b2cc8-a63e-44a2-9798-724ecd96ea85",
   "metadata": {},
   "outputs": [],
   "source": [
    "def ord_transform(df, col, transform):\n",
    "    assert transform\n",
    "    df[col] = [transform[x] for x in df[col]]\n",
    "    metadata.loc[metadata['column_name'] == col, 'ord_transform_map'] = str(transform)\n",
    "    return df"
   ]
  },
  {
   "cell_type": "code",
   "execution_count": 23,
   "id": "e7a20f1d-55b8-4057-84dc-804d42367b47",
   "metadata": {},
   "outputs": [],
   "source": [
    "null_group =  check_nulls(cleaned_data)[1].keys()"
   ]
  },
  {
   "cell_type": "markdown",
   "id": "715924f6-346d-4556-9555-a52cbe6d9b47",
   "metadata": {},
   "source": [
    "________"
   ]
  },
  {
   "cell_type": "markdown",
   "id": "207d4150-f1d8-4ba1-88ac-2bc5ad1787cd",
   "metadata": {},
   "source": [
    "#### Fireplace"
   ]
  },
  {
   "cell_type": "code",
   "execution_count": 24,
   "id": "329dc35e-37e7-4957-b7d1-dd6b9620aecd",
   "metadata": {},
   "outputs": [],
   "source": [
    "cleaned_data = ord_transform(cleaned_data,'fireplace_qu',popular_ord_transform)"
   ]
  },
  {
   "cell_type": "markdown",
   "id": "c4a17f29-b936-4759-81b9-f8640e235565",
   "metadata": {},
   "source": [
    "#### Basement"
   ]
  },
  {
   "cell_type": "code",
   "execution_count": 25,
   "id": "1c385607-4ac3-4d3c-9994-81d315e68931",
   "metadata": {},
   "outputs": [],
   "source": [
    "cleaned_data = ord_transform(cleaned_data,'bsmt_qual',popular_ord_transform)"
   ]
  },
  {
   "cell_type": "code",
   "execution_count": 26,
   "id": "f675021d-5860-4059-9ef4-c9702d6501cb",
   "metadata": {},
   "outputs": [],
   "source": [
    "cleaned_data = ord_transform(cleaned_data,'bsmt_cond',popular_ord_transform)"
   ]
  },
  {
   "cell_type": "code",
   "execution_count": 27,
   "id": "c572c623-0cb0-46ca-b9ff-3a6d29c3fdbe",
   "metadata": {},
   "outputs": [],
   "source": [
    "cleaned_data = ord_transform(cleaned_data,'bsmtfin_type_1',basement_finish_dict)"
   ]
  },
  {
   "cell_type": "code",
   "execution_count": 28,
   "id": "1d02b5fd-2f05-42da-bec6-141ba643b9b3",
   "metadata": {},
   "outputs": [],
   "source": [
    "cleaned_data = ord_transform(cleaned_data,'bsmt_exposure',basement_exp_dict)"
   ]
  },
  {
   "cell_type": "markdown",
   "id": "3e7200bf-7220-40a0-8b76-e79fe28d87de",
   "metadata": {},
   "source": [
    "- Note for reader:, bsmt_exposure is Walkout or garden level basement wall exposure to outside\n",
    "- Dict Definition of BsmtExposure: Walkout or garden level basement walls, so Personally I'm thinking that the impact of no basement at all would be the same of no exposure, so treating the nans as the same as no exposure"
   ]
  },
  {
   "cell_type": "markdown",
   "id": "bb7eee7f-d85b-4a7b-8638-415dfa383256",
   "metadata": {},
   "source": [
    "#### Garage"
   ]
  },
  {
   "cell_type": "code",
   "execution_count": 29,
   "id": "14ff0b5a-e747-470c-b9b1-41c6cf6a4407",
   "metadata": {},
   "outputs": [],
   "source": [
    "cleaned_data = ord_transform(cleaned_data,'garage_finish',garage_finish_dict)"
   ]
  },
  {
   "cell_type": "code",
   "execution_count": 30,
   "id": "78014587-568f-482f-8e32-3eedbef059df",
   "metadata": {},
   "outputs": [],
   "source": [
    "cleaned_data = ord_transform(cleaned_data,'garage_cond',popular_ord_transform)"
   ]
  },
  {
   "cell_type": "markdown",
   "id": "17378f2d-9ba8-496c-8211-4f44ff546038",
   "metadata": {},
   "source": [
    "____________"
   ]
  },
  {
   "cell_type": "markdown",
   "id": "05cc2bc6-714d-4e61-8c9e-795f511e8dbe",
   "metadata": {},
   "source": [
    "### Null Imputation Categories"
   ]
  },
  {
   "cell_type": "code",
   "execution_count": 31,
   "id": "3afc14e9-6bf5-4fb9-977b-5b6969212a36",
   "metadata": {},
   "outputs": [],
   "source": [
    "impute_median = set()\n",
    "impute_mean = set()\n",
    "impute_mode = set()"
   ]
  },
  {
   "cell_type": "code",
   "execution_count": 32,
   "id": "bf093f24-7a3b-4e10-9cc3-bdb8112a0dd0",
   "metadata": {},
   "outputs": [],
   "source": [
    "def nulls_to_be_handled(df):\n",
    "    output = set()\n",
    "    for column, null_count in check_nulls(df)[1].items():\n",
    "        if column not in impute_median and column not in impute_mean and column not in impute_mode:\n",
    "            output.add((column,get_variable_type(df,column)))\n",
    "    return output"
   ]
  },
  {
   "cell_type": "markdown",
   "id": "196275fc-b154-4d89-9ab5-7bc076049884",
   "metadata": {},
   "source": [
    "#### Numerical Data"
   ]
  },
  {
   "cell_type": "markdown",
   "id": "48a9b745-6e55-4158-9774-3a0fd2cb4684",
   "metadata": {},
   "source": [
    "#### Lot Frontage"
   ]
  },
  {
   "cell_type": "code",
   "execution_count": 33,
   "id": "dc90ad4a-4d19-42e3-9bec-2ad4cd3ad1b9",
   "metadata": {},
   "outputs": [
    {
     "data": {
      "text/plain": [
       "count    1721.000000\n",
       "mean       69.055200\n",
       "std        23.260653\n",
       "min        21.000000\n",
       "25%        58.000000\n",
       "50%        68.000000\n",
       "75%        80.000000\n",
       "max       313.000000\n",
       "Name: lot_frontage, dtype: float64"
      ]
     },
     "execution_count": 33,
     "metadata": {},
     "output_type": "execute_result"
    }
   ],
   "source": [
    "cleaned_data['lot_frontage'].describe()"
   ]
  },
  {
   "cell_type": "markdown",
   "id": "8d9249c1-876f-4cd4-89c2-030bed1ce3d8",
   "metadata": {},
   "source": [
    "- due to outliers on right end will impute on median "
   ]
  },
  {
   "cell_type": "code",
   "execution_count": 34,
   "id": "df0156a1-d80a-4d6a-b4d3-4233a1dace44",
   "metadata": {},
   "outputs": [],
   "source": [
    "impute_median.add('lot_frontage')"
   ]
  },
  {
   "cell_type": "markdown",
   "id": "f1453a39-14d6-4f96-9590-0fcac1c72eda",
   "metadata": {
    "tags": []
   },
   "source": [
    "#### Masonry Veneer Area"
   ]
  },
  {
   "cell_type": "code",
   "execution_count": 35,
   "id": "4aa5a93a-1b01-484d-bb9d-42e6333013b6",
   "metadata": {},
   "outputs": [
    {
     "data": {
      "text/plain": [
       "count    2029.000000\n",
       "mean       99.695909\n",
       "std       174.963129\n",
       "min         0.000000\n",
       "25%         0.000000\n",
       "50%         0.000000\n",
       "75%       161.000000\n",
       "max      1600.000000\n",
       "Name: mas_vnr_area, dtype: float64"
      ]
     },
     "execution_count": 35,
     "metadata": {},
     "output_type": "execute_result"
    }
   ],
   "source": [
    "cleaned_data['mas_vnr_area'].describe()"
   ]
  },
  {
   "cell_type": "code",
   "execution_count": 36,
   "id": "68e044c5-0841-49a4-926f-df04bbc107af",
   "metadata": {},
   "outputs": [
    {
     "data": {
      "text/plain": [
       "0    0.0\n",
       "Name: mas_vnr_area, dtype: float64"
      ]
     },
     "execution_count": 36,
     "metadata": {},
     "output_type": "execute_result"
    }
   ],
   "source": [
    "cleaned_data['mas_vnr_area'].mode()"
   ]
  },
  {
   "cell_type": "code",
   "execution_count": 37,
   "id": "cb72f287-54c6-4a0d-a672-e63f29716cd9",
   "metadata": {},
   "outputs": [],
   "source": [
    "impute_median.add('mas_vnr_area')"
   ]
  },
  {
   "cell_type": "markdown",
   "id": "7933a6ee-8d49-4fe6-8129-96817bd0d900",
   "metadata": {},
   "source": [
    "- Big right scew so will impute the median / also the mode"
   ]
  },
  {
   "cell_type": "markdown",
   "id": "36d72155-0738-4b7b-a388-e0bbb08fcd25",
   "metadata": {},
   "source": [
    "#### Basement Numerical "
   ]
  },
  {
   "cell_type": "code",
   "execution_count": 38,
   "id": "944584c6-4629-41d9-af47-59de5b24435d",
   "metadata": {},
   "outputs": [],
   "source": [
    "basement_numerical = ['bsmt_full_bath','bsmt_half_bath','bsmt_unf_sf','bsmtfin_sf_1','bsmtfin_sf_2','total_bsmt_sf']"
   ]
  },
  {
   "cell_type": "markdown",
   "id": "4782fe06-09d7-42be-9fa0-ea5c50851adf",
   "metadata": {},
   "source": [
    "- First will set all values where we know that there is no basement, will set all datapoints to zero"
   ]
  },
  {
   "cell_type": "code",
   "execution_count": 39,
   "id": "6cf2e372-8927-42f3-acbc-e9dc11ad85b1",
   "metadata": {},
   "outputs": [],
   "source": [
    "basement_null_df = cleaned_data[basement_numerical].isnull().sum()"
   ]
  },
  {
   "cell_type": "code",
   "execution_count": 40,
   "id": "d87a9497-5b64-4cbd-992e-b0cf1ef43d0f",
   "metadata": {},
   "outputs": [
    {
     "data": {
      "text/plain": [
       "count    2049.000000\n",
       "mean        0.427526\n",
       "std         0.522673\n",
       "min         0.000000\n",
       "25%         0.000000\n",
       "50%         0.000000\n",
       "75%         1.000000\n",
       "max         3.000000\n",
       "Name: bsmt_full_bath, dtype: float64"
      ]
     },
     "execution_count": 40,
     "metadata": {},
     "output_type": "execute_result"
    }
   ],
   "source": [
    "cleaned_data.bsmt_full_bath.describe()"
   ]
  },
  {
   "cell_type": "code",
   "execution_count": 41,
   "id": "ada0befc-f3ef-496c-99e5-f9019ba38106",
   "metadata": {},
   "outputs": [
    {
     "data": {
      "text/plain": [
       "0    0.0\n",
       "Name: bsmt_full_bath, dtype: float64"
      ]
     },
     "execution_count": 41,
     "metadata": {},
     "output_type": "execute_result"
    }
   ],
   "source": [
    "cleaned_data.bsmt_full_bath.mode()"
   ]
  },
  {
   "cell_type": "markdown",
   "id": "427ce1e2-8525-4b50-8fc9-00e04a038193",
   "metadata": {},
   "source": [
    "- Will impute the median, as the median and mode are both zero and are most frequnt.\n",
    "- Imputing the mean appears less interpretable to me"
   ]
  },
  {
   "cell_type": "code",
   "execution_count": 42,
   "id": "7616bdd5-8dd9-49a6-882a-577ef17b4795",
   "metadata": {},
   "outputs": [],
   "source": [
    "impute_median.add('bsmt_full_bath')"
   ]
  },
  {
   "cell_type": "code",
   "execution_count": 43,
   "id": "063d5a85-c843-422c-aef1-bb76132dc422",
   "metadata": {},
   "outputs": [
    {
     "data": {
      "text/plain": [
       "count    2049.000000\n",
       "mean        0.063446\n",
       "std         0.251705\n",
       "min         0.000000\n",
       "25%         0.000000\n",
       "50%         0.000000\n",
       "75%         0.000000\n",
       "max         2.000000\n",
       "Name: bsmt_half_bath, dtype: float64"
      ]
     },
     "execution_count": 43,
     "metadata": {},
     "output_type": "execute_result"
    }
   ],
   "source": [
    "cleaned_data.bsmt_half_bath.describe()"
   ]
  },
  {
   "cell_type": "code",
   "execution_count": 44,
   "id": "076d6353-286a-41c9-9f0b-d8b9ee93ca73",
   "metadata": {},
   "outputs": [],
   "source": [
    "impute_median.add('bsmt_half_bath')"
   ]
  },
  {
   "cell_type": "markdown",
   "id": "6ee482f0-e20f-4134-9210-4bd2149b50a5",
   "metadata": {},
   "source": [
    "- Similarly will do the same for half bath"
   ]
  },
  {
   "cell_type": "code",
   "execution_count": 45,
   "id": "b0e02930-9118-4a39-944d-eaa5f84b8b21",
   "metadata": {},
   "outputs": [
    {
     "data": {
      "text/plain": [
       "count    2050.000000\n",
       "mean      567.728293\n",
       "std       444.954786\n",
       "min         0.000000\n",
       "25%       220.000000\n",
       "50%       474.500000\n",
       "75%       811.000000\n",
       "max      2336.000000\n",
       "Name: bsmt_unf_sf, dtype: float64"
      ]
     },
     "execution_count": 45,
     "metadata": {},
     "output_type": "execute_result"
    }
   ],
   "source": [
    "cleaned_data.bsmt_unf_sf.describe()"
   ]
  },
  {
   "cell_type": "markdown",
   "id": "c5afb6e1-089c-4a25-9d9d-99bfc12b66c4",
   "metadata": {},
   "source": [
    "- Right scew so median"
   ]
  },
  {
   "cell_type": "code",
   "execution_count": 46,
   "id": "0fbbb41a-7490-4bb9-82db-060d23f5a035",
   "metadata": {},
   "outputs": [],
   "source": [
    "impute_median.add('bsmt_unf_sf')"
   ]
  },
  {
   "cell_type": "code",
   "execution_count": 47,
   "id": "12321669-6834-489a-a3a4-ab850b7c9578",
   "metadata": {},
   "outputs": [
    {
     "data": {
      "text/plain": [
       "count    2050.000000\n",
       "mean      442.300488\n",
       "std       461.204124\n",
       "min         0.000000\n",
       "25%         0.000000\n",
       "50%       368.000000\n",
       "75%       733.750000\n",
       "max      5644.000000\n",
       "Name: bsmtfin_sf_1, dtype: float64"
      ]
     },
     "execution_count": 47,
     "metadata": {},
     "output_type": "execute_result"
    }
   ],
   "source": [
    "cleaned_data.bsmtfin_sf_1.describe()"
   ]
  },
  {
   "cell_type": "markdown",
   "id": "3018b5dc-8ff8-484c-bc50-38c9675e7e3d",
   "metadata": {},
   "source": [
    "- Similarly scewed distribution, so will imput medianbsmtfin_sf_2"
   ]
  },
  {
   "cell_type": "code",
   "execution_count": 48,
   "id": "e441b4aa-51bf-4d44-a459-87769ef601e3",
   "metadata": {},
   "outputs": [],
   "source": [
    "impute_median.add('bsmtfin_sf_1')"
   ]
  },
  {
   "cell_type": "code",
   "execution_count": 49,
   "id": "7c5a575a-a984-4c25-82f2-ef55edab0f6f",
   "metadata": {},
   "outputs": [
    {
     "data": {
      "text/plain": [
       "count    2050.000000\n",
       "mean       47.959024\n",
       "std       165.000901\n",
       "min         0.000000\n",
       "25%         0.000000\n",
       "50%         0.000000\n",
       "75%         0.000000\n",
       "max      1474.000000\n",
       "Name: bsmtfin_sf_2, dtype: float64"
      ]
     },
     "execution_count": 49,
     "metadata": {},
     "output_type": "execute_result"
    }
   ],
   "source": [
    "cleaned_data.bsmtfin_sf_2.describe()"
   ]
  },
  {
   "cell_type": "markdown",
   "id": "ca26c46c-9aff-42e3-934f-e9351934b92b",
   "metadata": {},
   "source": [
    "- Similarly scewed distribution, so will imput median"
   ]
  },
  {
   "cell_type": "code",
   "execution_count": 50,
   "id": "716bcec8-ab36-4e5a-b169-12ee4863f0ec",
   "metadata": {},
   "outputs": [],
   "source": [
    "impute_median.add('bsmtfin_sf_2')"
   ]
  },
  {
   "cell_type": "code",
   "execution_count": 51,
   "id": "16ae5ec1-890f-4365-81cf-f7a88506f10c",
   "metadata": {},
   "outputs": [
    {
     "data": {
      "text/plain": [
       "count    2050.000000\n",
       "mean     1057.987805\n",
       "std       449.410704\n",
       "min         0.000000\n",
       "25%       793.000000\n",
       "50%       994.500000\n",
       "75%      1318.750000\n",
       "max      6110.000000\n",
       "Name: total_bsmt_sf, dtype: float64"
      ]
     },
     "execution_count": 51,
     "metadata": {},
     "output_type": "execute_result"
    }
   ],
   "source": [
    "cleaned_data.total_bsmt_sf.describe()"
   ]
  },
  {
   "cell_type": "markdown",
   "id": "4dc3c5e4-cdb4-4e41-96e7-31a73c2548ae",
   "metadata": {},
   "source": [
    "- Skewed dist so will impute median"
   ]
  },
  {
   "cell_type": "code",
   "execution_count": 52,
   "id": "99156f50-b3d1-4052-a60d-26dc50ca03e1",
   "metadata": {},
   "outputs": [],
   "source": [
    "impute_median.add('total_bsmt_sf')"
   ]
  },
  {
   "cell_type": "code",
   "execution_count": 53,
   "id": "42e18ed4-8eb5-4aca-9a1a-89dd6aa1f26a",
   "metadata": {},
   "outputs": [
    {
     "data": {
      "text/plain": [
       "{('bsmtfin_type_2', 'Nominal'),\n",
       " ('garage_area', 'Numerical'),\n",
       " ('garage_cars', 'Numerical'),\n",
       " ('garage_type', 'Nominal'),\n",
       " ('garage_yr_blt', 'Numerical')}"
      ]
     },
     "execution_count": 53,
     "metadata": {},
     "output_type": "execute_result"
    }
   ],
   "source": [
    "nulls_to_be_handled(cleaned_data)"
   ]
  },
  {
   "cell_type": "markdown",
   "id": "a01d0932-6b17-417a-ae79-693c7b2e21d8",
   "metadata": {},
   "source": [
    "#### Garage Numerical "
   ]
  },
  {
   "cell_type": "code",
   "execution_count": 54,
   "id": "585a157a-418d-4f34-b719-dfea15b4c0a5",
   "metadata": {},
   "outputs": [
    {
     "data": {
      "text/plain": [
       "count    2050.000000\n",
       "mean      473.671707\n",
       "std       215.934561\n",
       "min         0.000000\n",
       "25%       319.000000\n",
       "50%       480.000000\n",
       "75%       576.000000\n",
       "max      1418.000000\n",
       "Name: garage_area, dtype: float64"
      ]
     },
     "execution_count": 54,
     "metadata": {},
     "output_type": "execute_result"
    }
   ],
   "source": [
    "cleaned_data.garage_area.describe()"
   ]
  },
  {
   "cell_type": "markdown",
   "id": "45d1893c-ddfe-4dab-9f57-6c85378ddef0",
   "metadata": {},
   "source": [
    "- Mean is sitting under the median here, despite high outliers. Thinking that this should impute the mean"
   ]
  },
  {
   "cell_type": "code",
   "execution_count": 55,
   "id": "71fed664-c7a0-43af-9694-971cc1f16ffc",
   "metadata": {},
   "outputs": [],
   "source": [
    "impute_mean.add('garage_area')"
   ]
  },
  {
   "cell_type": "code",
   "execution_count": 56,
   "id": "9e6274f7-6ebd-4b0d-a6f6-64a8ce7e7dfb",
   "metadata": {},
   "outputs": [
    {
     "data": {
      "text/plain": [
       "count    2050.000000\n",
       "mean        1.776585\n",
       "std         0.764537\n",
       "min         0.000000\n",
       "25%         1.000000\n",
       "50%         2.000000\n",
       "75%         2.000000\n",
       "max         5.000000\n",
       "Name: garage_cars, dtype: float64"
      ]
     },
     "execution_count": 56,
     "metadata": {},
     "output_type": "execute_result"
    }
   ],
   "source": [
    "cleaned_data.garage_cars.describe()"
   ]
  },
  {
   "cell_type": "code",
   "execution_count": 57,
   "id": "fd5c45a4-4fe1-4fe8-9644-347160f69c40",
   "metadata": {},
   "outputs": [
    {
     "data": {
      "text/plain": [
       "0    2.0\n",
       "Name: garage_cars, dtype: float64"
      ]
     },
     "execution_count": 57,
     "metadata": {},
     "output_type": "execute_result"
    }
   ],
   "source": [
    "cleaned_data.garage_cars.mode()"
   ]
  },
  {
   "cell_type": "markdown",
   "id": "9a106ed6-48bc-4557-bce2-30b600db20d3",
   "metadata": {},
   "source": [
    "- Mode is matching the median here at 2. Considering that you can't have 1.77 cars in a garage, imputing median here appears to make more sense intuitively "
   ]
  },
  {
   "cell_type": "code",
   "execution_count": 58,
   "id": "9fcb9f3e-92bb-4cd9-a30d-e1b3b2f3def9",
   "metadata": {},
   "outputs": [],
   "source": [
    "impute_median.add('garage_cars')"
   ]
  },
  {
   "cell_type": "code",
   "execution_count": 59,
   "id": "c0257a70-4732-4912-bdde-c99fe357e6ca",
   "metadata": {},
   "outputs": [
    {
     "data": {
      "text/plain": [
       "count    1937.000000\n",
       "mean     1978.707796\n",
       "std        25.441094\n",
       "min      1895.000000\n",
       "25%      1961.000000\n",
       "50%      1980.000000\n",
       "75%      2002.000000\n",
       "max      2207.000000\n",
       "Name: garage_yr_blt, dtype: float64"
      ]
     },
     "execution_count": 59,
     "metadata": {},
     "output_type": "execute_result"
    }
   ],
   "source": [
    "cleaned_data.garage_yr_blt.describe()"
   ]
  },
  {
   "cell_type": "markdown",
   "id": "d11adf98-ea7c-41fc-8308-9411b089c6df",
   "metadata": {},
   "source": [
    "- Noticed that there's at least one incorrect data point with that max"
   ]
  },
  {
   "cell_type": "code",
   "execution_count": 60,
   "id": "9353054f-e4ec-4878-8afb-c2cbc89376d6",
   "metadata": {},
   "outputs": [
    {
     "data": {
      "text/plain": [
       "2051"
      ]
     },
     "execution_count": 60,
     "metadata": {},
     "output_type": "execute_result"
    }
   ],
   "source": [
    "cleaned_data.shape[0]"
   ]
  },
  {
   "cell_type": "code",
   "execution_count": 61,
   "id": "355ca110-dc95-4967-b4a5-efe1437a435b",
   "metadata": {},
   "outputs": [],
   "source": [
    "cleaned_data.garage_yr_blt = [cleaned_data.garage_yr_blt.median() if x > 2022 else x for x in cleaned_data.garage_yr_blt]"
   ]
  },
  {
   "cell_type": "markdown",
   "id": "6254867c-c99a-4a86-92bf-ec9212197106",
   "metadata": {},
   "source": [
    "- Replacing the garage year built to the mean of the column if it is greater than 2022. Probably not worth removing ~100 rows over this issue\n",
    "- Will impute median for null values"
   ]
  },
  {
   "cell_type": "code",
   "execution_count": 62,
   "id": "098590a5-412c-475f-9f62-5410ca50f2c4",
   "metadata": {},
   "outputs": [],
   "source": [
    "impute_median.add('garage_yr_blt')"
   ]
  },
  {
   "cell_type": "markdown",
   "id": "eb049ac4-f2ca-450b-a4a1-5644783e129d",
   "metadata": {},
   "source": [
    "### Nominal Null Handling"
   ]
  },
  {
   "cell_type": "markdown",
   "id": "faaefc71-bd76-48de-b485-6e1ef9fd24ec",
   "metadata": {},
   "source": [
    "- Will impute with the mode, as 'Unf' is all but ~200 of the values in this column"
   ]
  },
  {
   "cell_type": "code",
   "execution_count": 63,
   "id": "8a03dd28-fdaa-42ab-8e44-1df15ee6daef",
   "metadata": {},
   "outputs": [
    {
     "data": {
      "text/plain": [
       "56"
      ]
     },
     "execution_count": 63,
     "metadata": {},
     "output_type": "execute_result"
    }
   ],
   "source": [
    "cleaned_data.bsmtfin_type_2.isnull().sum()"
   ]
  },
  {
   "cell_type": "code",
   "execution_count": 64,
   "id": "08783458-d4eb-4f88-b61c-ed37d21a8e8e",
   "metadata": {},
   "outputs": [],
   "source": [
    "impute_mode.add('bsmtfin_type_2')"
   ]
  },
  {
   "cell_type": "code",
   "execution_count": 65,
   "id": "eb62c104-1123-40a0-b9d2-f4d27afbc4c5",
   "metadata": {},
   "outputs": [
    {
     "data": {
      "text/plain": [
       "count       1938\n",
       "unique         6\n",
       "top       Attchd\n",
       "freq        1213\n",
       "Name: garage_type, dtype: object"
      ]
     },
     "execution_count": 65,
     "metadata": {},
     "output_type": "execute_result"
    }
   ],
   "source": [
    "cleaned_data.garage_type.describe()"
   ]
  },
  {
   "cell_type": "markdown",
   "id": "2d49ffc7-1fc5-4537-a5e9-0ced8f3f30c3",
   "metadata": {},
   "source": [
    "- Will impute with mode, as its the dominant factor here"
   ]
  },
  {
   "cell_type": "code",
   "execution_count": 66,
   "id": "98a4a0d9-478e-4e9c-8c86-dc40da2d519d",
   "metadata": {},
   "outputs": [],
   "source": [
    "impute_mode.add('garage_type')"
   ]
  },
  {
   "cell_type": "code",
   "execution_count": 67,
   "id": "ba211dec-92c3-4b9e-ab30-ba8e3cf7f27e",
   "metadata": {},
   "outputs": [],
   "source": [
    "cleaned_data = cleaned_data.reset_index(drop=True)"
   ]
  },
  {
   "cell_type": "code",
   "execution_count": 68,
   "id": "32031366-0cc8-4812-8a83-7d435091f0fe",
   "metadata": {},
   "outputs": [],
   "source": [
    "cleaned_data.to_csv(('../datasets/train-cleaned.csv'))"
   ]
  },
  {
   "cell_type": "markdown",
   "id": "7bdf55aa-aa0f-44dc-8ae9-415b37f779f6",
   "metadata": {},
   "source": [
    "#### Metadata_cleaned csv file where it only includes the column_name's that will be in the Model"
   ]
  },
  {
   "cell_type": "code",
   "execution_count": 69,
   "id": "3d8de8f5-205f-47f1-a9ef-166a53a19425",
   "metadata": {},
   "outputs": [],
   "source": [
    "metadata_cleaned = metadata"
   ]
  },
  {
   "cell_type": "code",
   "execution_count": 70,
   "id": "5c929dd7-6b6b-4c85-829d-a4fc5c74fbdc",
   "metadata": {},
   "outputs": [],
   "source": [
    "metadata_cleaned = metadata_cleaned[metadata_cleaned.column_name.isin(x for x in cleaned_data.columns)]"
   ]
  },
  {
   "cell_type": "markdown",
   "id": "e22b43f4-8388-4871-a7c2-774fbfa082a8",
   "metadata": {},
   "source": [
    "#### Saving Imputation Decisions in Metadata file:"
   ]
  },
  {
   "cell_type": "code",
   "execution_count": 71,
   "id": "b7c0b989-8310-499d-ade7-774baf656392",
   "metadata": {},
   "outputs": [],
   "source": [
    "i_mean =  [1 if x in impute_mean else 0 for x in metadata_cleaned.column_name ]"
   ]
  },
  {
   "cell_type": "code",
   "execution_count": 72,
   "id": "ff0bfc12-3bfe-4a92-b5c2-228fe5c3ff78",
   "metadata": {},
   "outputs": [],
   "source": [
    "metadata_cleaned = metadata_cleaned.assign(impute_mean=i_mean) "
   ]
  },
  {
   "cell_type": "code",
   "execution_count": 73,
   "id": "e5f0bcab-3606-4a3b-8df2-780d27b74035",
   "metadata": {},
   "outputs": [],
   "source": [
    "i_median = [1 if x in impute_median else 0 for x in metadata_cleaned.column_name ]"
   ]
  },
  {
   "cell_type": "code",
   "execution_count": 74,
   "id": "ee77ebe5-52a5-4965-b906-51ecb0e95305",
   "metadata": {},
   "outputs": [],
   "source": [
    "metadata_cleaned = metadata_cleaned.assign(impute_median=i_median) "
   ]
  },
  {
   "cell_type": "code",
   "execution_count": 75,
   "id": "cb463e68-9dbc-43e6-9098-f4c963e085cc",
   "metadata": {},
   "outputs": [],
   "source": [
    "i_mode = [1 if x in impute_mode else 0 for x in metadata_cleaned.column_name]"
   ]
  },
  {
   "cell_type": "code",
   "execution_count": 76,
   "id": "ec2078d4-84de-485e-bc80-cd25b08de577",
   "metadata": {},
   "outputs": [],
   "source": [
    "metadata_cleaned = metadata_cleaned.assign(impute_mode=i_mode) "
   ]
  },
  {
   "cell_type": "code",
   "execution_count": 77,
   "id": "bc0468ec-b77f-4bb7-b32b-c8506f83319e",
   "metadata": {},
   "outputs": [],
   "source": [
    "metadata_cleaned.to_csv('../datasets/metadata-cleaned.csv') #Save down file"
   ]
  },
  {
   "cell_type": "markdown",
   "id": "beeda74d-26e0-429c-bca8-b538f29a0255",
   "metadata": {},
   "source": [
    "## Exploratory Analysis"
   ]
  },
  {
   "cell_type": "code",
   "execution_count": 78,
   "id": "f31be605-2466-4e41-bfb7-391d054e3466",
   "metadata": {},
   "outputs": [
    {
     "data": {
      "text/plain": [
       "0       130500\n",
       "1       220000\n",
       "2       109000\n",
       "3       174000\n",
       "4       138500\n",
       "         ...  \n",
       "2046    298751\n",
       "2047     82500\n",
       "2048    177000\n",
       "2049    144000\n",
       "2050    189000\n",
       "Name: saleprice, Length: 2051, dtype: int64"
      ]
     },
     "execution_count": 78,
     "metadata": {},
     "output_type": "execute_result"
    }
   ],
   "source": [
    "cleaned_data.saleprice"
   ]
  },
  {
   "cell_type": "code",
   "execution_count": 81,
   "id": "d3c9b2e7-aff8-473a-8f6b-6a95186f041c",
   "metadata": {},
   "outputs": [
    {
     "data": {
      "text/plain": [
       "Text(0.5, 1.0, 'Histogram of Ames Iowa SF RE Sales Prices')"
      ]
     },
     "execution_count": 81,
     "metadata": {},
     "output_type": "execute_result"
    },
    {
     "data": {
      "image/png": "[encoded data removed]",
      "text/plain": [
       "<Figure size 1000x600 with 1 Axes>"
      ]
     },
     "metadata": {},
     "output_type": "display_data"
    }
   ],
   "source": [
    "import matplotlib.pyplot as plt\n",
    "\n",
    "plt.figure(figsize=(10, 6))\n",
    "\n",
    "# Plot the histogram\n",
    "plt.hist(cleaned_data.saleprice, bins=50)\n",
    "\n",
    "# Add axis labels and a title\n",
    "plt.xlabel('Sale price')\n",
    "plt.ylabel('Frequency')\n",
    "plt.title('Histogram of Ames Iowa SF RE Sales Prices')"
   ]
  },
  {
   "cell_type": "markdown",
   "id": "72e5ac7c-02a3-4d95-865d-8594990124ff",
   "metadata": {},
   "source": [
    "- Clear right skew"
   ]
  },
  {
   "cell_type": "code",
   "execution_count": 82,
   "id": "2ac56b75-71c0-48ea-9fb5-acaedad04b4e",
   "metadata": {},
   "outputs": [
    {
     "data": {
      "image/png": "[encoded data removed]",
      "text/plain": [
       "<Figure size 1000x600 with 1 Axes>"
      ]
     },
     "metadata": {},
     "output_type": "display_data"
    }
   ],
   "source": [
    "plt.figure(figsize=(10, 6))\n",
    "plt.boxplot(cleaned_data.saleprice)\n",
    "plt.title('Box and whisker plot of Sale Price')\n",
    "plt.xlabel('')\n",
    "plt.show()"
   ]
  },
  {
   "cell_type": "markdown",
   "id": "cd68ddab-dd92-45bb-85e4-a4d067d4146d",
   "metadata": {},
   "source": [
    "- Something that I learned through going through this experience is that I could have considered some elements\\\n",
    "to differentiate between the big outliers on the high-end, and normal homes"
   ]
  },
  {
   "cell_type": "code",
   "execution_count": null,
   "id": "c7e3cd15-676a-4b94-aa8d-b8343c3d9221",
   "metadata": {},
   "outputs": [],
   "source": []
  }
 ],
 "metadata": {
  "kernelspec": {
   "display_name": "Python 3 (ipykernel)",
   "language": "python",
   "name": "python3"
  },
  "language_info": {
   "codemirror_mode": {
    "name": "ipython",
    "version": 3
   },
   "file_extension": ".py",
   "mimetype": "text/x-python",
   "name": "python",
   "nbconvert_exporter": "python",
   "pygments_lexer": "ipython3",
   "version": "3.9.13"
  }
 },
 "nbformat": 4,
 "nbformat_minor": 5
}
